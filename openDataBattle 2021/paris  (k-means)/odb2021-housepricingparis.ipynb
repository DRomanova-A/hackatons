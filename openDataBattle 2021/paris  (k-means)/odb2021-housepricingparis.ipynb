{
 "cells": [
  {
   "cell_type": "code",
   "execution_count": 1,
   "id": "ccae1ed1",
   "metadata": {
    "_cell_guid": "b1076dfc-b9ad-4769-8c92-a6c4dae69d19",
    "_uuid": "8f2839f25d086af736a60e9eeb907d3b93b6e0e5",
    "execution": {
     "iopub.execute_input": "2021-10-17T19:47:42.868545Z",
     "iopub.status.busy": "2021-10-17T19:47:42.866739Z",
     "iopub.status.idle": "2021-10-17T19:47:42.887825Z",
     "shell.execute_reply": "2021-10-17T19:47:42.886771Z",
     "shell.execute_reply.started": "2021-10-17T18:51:47.580548Z"
    },
    "papermill": {
     "duration": 0.05124,
     "end_time": "2021-10-17T19:47:42.888062",
     "exception": false,
     "start_time": "2021-10-17T19:47:42.836822",
     "status": "completed"
    },
    "tags": []
   },
   "outputs": [
    {
     "name": "stdout",
     "output_type": "stream",
     "text": [
      "/kaggle/input/odb-paris/ParisHousing.csv\n"
     ]
    }
   ],
   "source": [
    "import numpy as np # linear algebra\n",
    "import pandas as pd # data processing, CSV file I/O (e.g. pd.read_csv)\n",
    "\n",
    "import os\n",
    "for dirname, _, filenames in os.walk('/kaggle/input'):\n",
    "    for filename in filenames:\n",
    "        print(os.path.join(dirname, filename))\n",
    "\n",
    "import warnings\n",
    "warnings.filterwarnings(\"ignore\")"
   ]
  },
  {
   "cell_type": "code",
   "execution_count": 2,
   "id": "a250bbb1",
   "metadata": {
    "execution": {
     "iopub.execute_input": "2021-10-17T19:47:42.941367Z",
     "iopub.status.busy": "2021-10-17T19:47:42.940664Z",
     "iopub.status.idle": "2021-10-17T19:47:43.761659Z",
     "shell.execute_reply": "2021-10-17T19:47:43.761002Z",
     "shell.execute_reply.started": "2021-10-17T18:21:40.094784Z"
    },
    "papermill": {
     "duration": 0.848153,
     "end_time": "2021-10-17T19:47:43.761810",
     "exception": false,
     "start_time": "2021-10-17T19:47:42.913657",
     "status": "completed"
    },
    "tags": []
   },
   "outputs": [],
   "source": [
    "import matplotlib.pyplot as plt #Data Visualization \n",
    "import seaborn as sns  #Python library for Vidualization"
   ]
  },
  {
   "cell_type": "code",
   "execution_count": 3,
   "id": "0282f922",
   "metadata": {
    "execution": {
     "iopub.execute_input": "2021-10-17T19:47:43.816114Z",
     "iopub.status.busy": "2021-10-17T19:47:43.815425Z",
     "iopub.status.idle": "2021-10-17T19:47:43.879476Z",
     "shell.execute_reply": "2021-10-17T19:47:43.878888Z",
     "shell.execute_reply.started": "2021-10-17T19:24:04.590844Z"
    },
    "papermill": {
     "duration": 0.093492,
     "end_time": "2021-10-17T19:47:43.879649",
     "exception": false,
     "start_time": "2021-10-17T19:47:43.786157",
     "status": "completed"
    },
    "tags": []
   },
   "outputs": [],
   "source": [
    "data = pd.read_csv('/kaggle/input/odb-paris/ParisHousing.csv', index_col = 0) #применять в случае если 1 столбец пустой"
   ]
  },
  {
   "cell_type": "code",
   "execution_count": 4,
   "id": "6f1942e5",
   "metadata": {
    "execution": {
     "iopub.execute_input": "2021-10-17T19:47:43.932122Z",
     "iopub.status.busy": "2021-10-17T19:47:43.931286Z",
     "iopub.status.idle": "2021-10-17T19:47:43.953971Z",
     "shell.execute_reply": "2021-10-17T19:47:43.954499Z",
     "shell.execute_reply.started": "2021-10-17T18:23:20.093026Z"
    },
    "papermill": {
     "duration": 0.050766,
     "end_time": "2021-10-17T19:47:43.954668",
     "exception": false,
     "start_time": "2021-10-17T19:47:43.903902",
     "status": "completed"
    },
    "tags": []
   },
   "outputs": [
    {
     "data": {
      "text/html": [
       "<div>\n",
       "<style scoped>\n",
       "    .dataframe tbody tr th:only-of-type {\n",
       "        vertical-align: middle;\n",
       "    }\n",
       "\n",
       "    .dataframe tbody tr th {\n",
       "        vertical-align: top;\n",
       "    }\n",
       "\n",
       "    .dataframe thead th {\n",
       "        text-align: right;\n",
       "    }\n",
       "</style>\n",
       "<table border=\"1\" class=\"dataframe\">\n",
       "  <thead>\n",
       "    <tr style=\"text-align: right;\">\n",
       "      <th></th>\n",
       "      <th>squareMeters</th>\n",
       "      <th>numberOfRooms</th>\n",
       "      <th>floors</th>\n",
       "      <th>cityCode</th>\n",
       "      <th>cityPartRange</th>\n",
       "      <th>numPrevOwners</th>\n",
       "      <th>made</th>\n",
       "      <th>isNewBuilt</th>\n",
       "      <th>hasStormProtector</th>\n",
       "      <th>basement</th>\n",
       "      <th>attic</th>\n",
       "      <th>garage</th>\n",
       "      <th>hasStorageRoom</th>\n",
       "      <th>hasGuestRoom</th>\n",
       "      <th>price</th>\n",
       "      <th>category</th>\n",
       "      <th>PoolAndYard</th>\n",
       "    </tr>\n",
       "  </thead>\n",
       "  <tbody>\n",
       "    <tr>\n",
       "      <th>0</th>\n",
       "      <td>75523</td>\n",
       "      <td>three</td>\n",
       "      <td>63</td>\n",
       "      <td>9373</td>\n",
       "      <td>3</td>\n",
       "      <td>8</td>\n",
       "      <td>2005</td>\n",
       "      <td>False</td>\n",
       "      <td>True</td>\n",
       "      <td>4313</td>\n",
       "      <td>9005</td>\n",
       "      <td>956</td>\n",
       "      <td>False</td>\n",
       "      <td>7</td>\n",
       "      <td>7559081.5</td>\n",
       "      <td>Basic</td>\n",
       "      <td>has pool and no yard</td>\n",
       "    </tr>\n",
       "    <tr>\n",
       "      <th>1</th>\n",
       "      <td>80771</td>\n",
       "      <td>thirty-nine</td>\n",
       "      <td>98</td>\n",
       "      <td>39381</td>\n",
       "      <td>8</td>\n",
       "      <td>6</td>\n",
       "      <td>2015</td>\n",
       "      <td>True</td>\n",
       "      <td>False</td>\n",
       "      <td>3653</td>\n",
       "      <td>2436</td>\n",
       "      <td>128</td>\n",
       "      <td>True</td>\n",
       "      <td>2</td>\n",
       "      <td>8085989.5</td>\n",
       "      <td>Luxury</td>\n",
       "      <td>has pool and has yard</td>\n",
       "    </tr>\n",
       "    <tr>\n",
       "      <th>2</th>\n",
       "      <td>55712</td>\n",
       "      <td>fifty-eight</td>\n",
       "      <td>19</td>\n",
       "      <td>34457</td>\n",
       "      <td>6</td>\n",
       "      <td>8</td>\n",
       "      <td>2021</td>\n",
       "      <td>False</td>\n",
       "      <td>False</td>\n",
       "      <td>2937</td>\n",
       "      <td>8852</td>\n",
       "      <td>135</td>\n",
       "      <td>True</td>\n",
       "      <td>9</td>\n",
       "      <td>5574642.1</td>\n",
       "      <td>Basic</td>\n",
       "      <td>has pool and no yard</td>\n",
       "    </tr>\n",
       "    <tr>\n",
       "      <th>3</th>\n",
       "      <td>32316</td>\n",
       "      <td>forty-seven</td>\n",
       "      <td>6</td>\n",
       "      <td>27939</td>\n",
       "      <td>10</td>\n",
       "      <td>4</td>\n",
       "      <td>2012</td>\n",
       "      <td>False</td>\n",
       "      <td>True</td>\n",
       "      <td>659</td>\n",
       "      <td>7141</td>\n",
       "      <td>359</td>\n",
       "      <td>False</td>\n",
       "      <td>3</td>\n",
       "      <td>3232561.2</td>\n",
       "      <td>Basic</td>\n",
       "      <td>no pool and no yard</td>\n",
       "    </tr>\n",
       "    <tr>\n",
       "      <th>4</th>\n",
       "      <td>70429</td>\n",
       "      <td>nineteen</td>\n",
       "      <td>90</td>\n",
       "      <td>38045</td>\n",
       "      <td>3</td>\n",
       "      <td>7</td>\n",
       "      <td>1990</td>\n",
       "      <td>True</td>\n",
       "      <td>False</td>\n",
       "      <td>8435</td>\n",
       "      <td>2429</td>\n",
       "      <td>292</td>\n",
       "      <td>True</td>\n",
       "      <td>4</td>\n",
       "      <td>7055052.0</td>\n",
       "      <td>Luxury</td>\n",
       "      <td>has pool and has yard</td>\n",
       "    </tr>\n",
       "  </tbody>\n",
       "</table>\n",
       "</div>"
      ],
      "text/plain": [
       "   squareMeters numberOfRooms  floors  cityCode  cityPartRange  numPrevOwners  \\\n",
       "0         75523         three      63      9373              3              8   \n",
       "1         80771   thirty-nine      98     39381              8              6   \n",
       "2         55712   fifty-eight      19     34457              6              8   \n",
       "3         32316   forty-seven       6     27939             10              4   \n",
       "4         70429      nineteen      90     38045              3              7   \n",
       "\n",
       "   made  isNewBuilt  hasStormProtector  basement  attic  garage  \\\n",
       "0  2005       False               True      4313   9005     956   \n",
       "1  2015        True              False      3653   2436     128   \n",
       "2  2021       False              False      2937   8852     135   \n",
       "3  2012       False               True       659   7141     359   \n",
       "4  1990        True              False      8435   2429     292   \n",
       "\n",
       "   hasStorageRoom  hasGuestRoom      price category            PoolAndYard  \n",
       "0           False             7  7559081.5    Basic   has pool and no yard  \n",
       "1            True             2  8085989.5   Luxury  has pool and has yard  \n",
       "2            True             9  5574642.1    Basic   has pool and no yard  \n",
       "3           False             3  3232561.2    Basic    no pool and no yard  \n",
       "4            True             4  7055052.0   Luxury  has pool and has yard  "
      ]
     },
     "execution_count": 4,
     "metadata": {},
     "output_type": "execute_result"
    }
   ],
   "source": [
    "data.head()"
   ]
  },
  {
   "cell_type": "code",
   "execution_count": 5,
   "id": "b539fbc9",
   "metadata": {
    "execution": {
     "iopub.execute_input": "2021-10-17T19:47:44.016286Z",
     "iopub.status.busy": "2021-10-17T19:47:44.015175Z",
     "iopub.status.idle": "2021-10-17T19:47:44.050031Z",
     "shell.execute_reply": "2021-10-17T19:47:44.049153Z",
     "shell.execute_reply.started": "2021-10-17T18:21:53.263382Z"
    },
    "papermill": {
     "duration": 0.070668,
     "end_time": "2021-10-17T19:47:44.050193",
     "exception": false,
     "start_time": "2021-10-17T19:47:43.979525",
     "status": "completed"
    },
    "tags": []
   },
   "outputs": [
    {
     "name": "stdout",
     "output_type": "stream",
     "text": [
      "<class 'pandas.core.frame.DataFrame'>\n",
      "Int64Index: 10000 entries, 0 to 9999\n",
      "Data columns (total 17 columns):\n",
      " #   Column             Non-Null Count  Dtype  \n",
      "---  ------             --------------  -----  \n",
      " 0   squareMeters       10000 non-null  int64  \n",
      " 1   numberOfRooms      10000 non-null  object \n",
      " 2   floors             10000 non-null  int64  \n",
      " 3   cityCode           10000 non-null  int64  \n",
      " 4   cityPartRange      10000 non-null  int64  \n",
      " 5   numPrevOwners      10000 non-null  int64  \n",
      " 6   made               10000 non-null  int64  \n",
      " 7   isNewBuilt         10000 non-null  bool   \n",
      " 8   hasStormProtector  10000 non-null  bool   \n",
      " 9   basement           10000 non-null  int64  \n",
      " 10  attic              10000 non-null  int64  \n",
      " 11  garage             10000 non-null  int64  \n",
      " 12  hasStorageRoom     10000 non-null  bool   \n",
      " 13  hasGuestRoom       10000 non-null  int64  \n",
      " 14  price              10000 non-null  float64\n",
      " 15  category           10000 non-null  object \n",
      " 16  PoolAndYard        10000 non-null  object \n",
      "dtypes: bool(3), float64(1), int64(10), object(3)\n",
      "memory usage: 1.2+ MB\n"
     ]
    },
    {
     "data": {
      "text/plain": [
       "((10000, 17), None)"
      ]
     },
     "execution_count": 5,
     "metadata": {},
     "output_type": "execute_result"
    }
   ],
   "source": [
    "data.shape, data.info()"
   ]
  },
  {
   "cell_type": "code",
   "execution_count": 6,
   "id": "037e4d90",
   "metadata": {
    "execution": {
     "iopub.execute_input": "2021-10-17T19:47:44.120647Z",
     "iopub.status.busy": "2021-10-17T19:47:44.116710Z",
     "iopub.status.idle": "2021-10-17T19:47:44.127537Z",
     "shell.execute_reply": "2021-10-17T19:47:44.128036Z",
     "shell.execute_reply.started": "2021-10-17T18:22:02.583504Z"
    },
    "papermill": {
     "duration": 0.045684,
     "end_time": "2021-10-17T19:47:44.128203",
     "exception": false,
     "start_time": "2021-10-17T19:47:44.082519",
     "status": "completed"
    },
    "tags": []
   },
   "outputs": [
    {
     "data": {
      "text/plain": [
       "squareMeters         0\n",
       "numberOfRooms        0\n",
       "floors               0\n",
       "cityCode             0\n",
       "cityPartRange        0\n",
       "numPrevOwners        0\n",
       "made                 0\n",
       "isNewBuilt           0\n",
       "hasStormProtector    0\n",
       "basement             0\n",
       "attic                0\n",
       "garage               0\n",
       "hasStorageRoom       0\n",
       "hasGuestRoom         0\n",
       "price                0\n",
       "category             0\n",
       "PoolAndYard          0\n",
       "dtype: int64"
      ]
     },
     "execution_count": 6,
     "metadata": {},
     "output_type": "execute_result"
    }
   ],
   "source": [
    "data.isnull().sum()"
   ]
  },
  {
   "cell_type": "code",
   "execution_count": 7,
   "id": "84599273",
   "metadata": {
    "execution": {
     "iopub.execute_input": "2021-10-17T19:47:44.184272Z",
     "iopub.status.busy": "2021-10-17T19:47:44.183647Z",
     "iopub.status.idle": "2021-10-17T19:47:44.188439Z",
     "shell.execute_reply": "2021-10-17T19:47:44.188938Z",
     "shell.execute_reply.started": "2021-10-17T18:24:22.894224Z"
    },
    "papermill": {
     "duration": 0.033548,
     "end_time": "2021-10-17T19:47:44.189109",
     "exception": false,
     "start_time": "2021-10-17T19:47:44.155561",
     "status": "completed"
    },
    "tags": []
   },
   "outputs": [
    {
     "data": {
      "text/plain": [
       "Index(['squareMeters', 'numberOfRooms', 'floors', 'cityCode', 'cityPartRange',\n",
       "       'numPrevOwners', 'made', 'isNewBuilt', 'hasStormProtector', 'basement',\n",
       "       'attic', 'garage', 'hasStorageRoom', 'hasGuestRoom', 'price',\n",
       "       'category', 'PoolAndYard'],\n",
       "      dtype='object')"
      ]
     },
     "execution_count": 7,
     "metadata": {},
     "output_type": "execute_result"
    }
   ],
   "source": [
    "data.columns"
   ]
  },
  {
   "cell_type": "markdown",
   "id": "28866a82",
   "metadata": {
    "papermill": {
     "duration": 0.02587,
     "end_time": "2021-10-17T19:47:44.241040",
     "exception": false,
     "start_time": "2021-10-17T19:47:44.215170",
     "status": "completed"
    },
    "tags": []
   },
   "source": [
    "# EDA"
   ]
  },
  {
   "cell_type": "code",
   "execution_count": 8,
   "id": "6a0fb6c2",
   "metadata": {
    "execution": {
     "iopub.execute_input": "2021-10-17T19:47:44.296891Z",
     "iopub.status.busy": "2021-10-17T19:47:44.296269Z",
     "iopub.status.idle": "2021-10-17T19:47:44.300718Z",
     "shell.execute_reply": "2021-10-17T19:47:44.300192Z",
     "shell.execute_reply.started": "2021-10-17T18:44:53.359078Z"
    },
    "papermill": {
     "duration": 0.033606,
     "end_time": "2021-10-17T19:47:44.300855",
     "exception": false,
     "start_time": "2021-10-17T19:47:44.267249",
     "status": "completed"
    },
    "tags": []
   },
   "outputs": [],
   "source": [
    "plt.style.use('fivethirtyeight')"
   ]
  },
  {
   "cell_type": "code",
   "execution_count": 9,
   "id": "c276a132",
   "metadata": {
    "execution": {
     "iopub.execute_input": "2021-10-17T19:47:44.356605Z",
     "iopub.status.busy": "2021-10-17T19:47:44.355955Z",
     "iopub.status.idle": "2021-10-17T19:47:44.577300Z",
     "shell.execute_reply": "2021-10-17T19:47:44.576735Z",
     "shell.execute_reply.started": "2021-10-17T18:57:54.990937Z"
    },
    "papermill": {
     "duration": 0.250467,
     "end_time": "2021-10-17T19:47:44.577463",
     "exception": false,
     "start_time": "2021-10-17T19:47:44.326996",
     "status": "completed"
    },
    "tags": []
   },
   "outputs": [
    {
     "data": {
      "image/png": "[encoded data removed]",
      "text/plain": [
       "<Figure size 1080x360 with 1 Axes>"
      ]
     },
     "metadata": {},
     "output_type": "display_data"
    }
   ],
   "source": [
    "plt.figure(1 , figsize = (15 , 5))\n",
    "sns.countplot(y = 'category' , data = data)\n",
    "plt.show()"
   ]
  },
  {
   "cell_type": "code",
   "execution_count": 10,
   "id": "fd8d40b6",
   "metadata": {
    "execution": {
     "iopub.execute_input": "2021-10-17T19:47:44.661139Z",
     "iopub.status.busy": "2021-10-17T19:47:44.660064Z",
     "iopub.status.idle": "2021-10-17T19:47:45.469701Z",
     "shell.execute_reply": "2021-10-17T19:47:45.469142Z",
     "shell.execute_reply.started": "2021-10-17T18:51:54.636231Z"
    },
    "papermill": {
     "duration": 0.86528,
     "end_time": "2021-10-17T19:47:45.469841",
     "exception": false,
     "start_time": "2021-10-17T19:47:44.604561",
     "status": "completed"
    },
    "tags": []
   },
   "outputs": [
    {
     "data": {
      "image/png": "[encoded data removed]",
      "text/plain": [
       "<Figure size 1080x432 with 3 Axes>"
      ]
     },
     "metadata": {},
     "output_type": "display_data"
    }
   ],
   "source": [
    "plt.figure(1 , figsize = (15 , 6))\n",
    "n = 0 \n",
    "for x in ['squareMeters' , 'price' , 'floors']:\n",
    "    n += 1\n",
    "    plt.subplot(1 , 3 , n)\n",
    "    plt.subplots_adjust(hspace =0.5 , wspace = 0.5)\n",
    "    sns.distplot(data[x] , bins = 20)\n",
    "    plt.title('Distplot of {}'.format(x))\n",
    "plt.show()"
   ]
  },
  {
   "cell_type": "code",
   "execution_count": 11,
   "id": "2b2d8000",
   "metadata": {
    "execution": {
     "iopub.execute_input": "2021-10-17T19:47:45.536748Z",
     "iopub.status.busy": "2021-10-17T19:47:45.535769Z",
     "iopub.status.idle": "2021-10-17T19:47:46.078022Z",
     "shell.execute_reply": "2021-10-17T19:47:46.077459Z",
     "shell.execute_reply.started": "2021-10-17T18:56:03.247345Z"
    },
    "papermill": {
     "duration": 0.578984,
     "end_time": "2021-10-17T19:47:46.078171",
     "exception": false,
     "start_time": "2021-10-17T19:47:45.499187",
     "status": "completed"
    },
    "tags": []
   },
   "outputs": [
    {
     "data": {
      "image/png": "[encoded data removed]",
      "text/plain": [
       "<Figure size 864x432 with 1 Axes>"
      ]
     },
     "metadata": {},
     "output_type": "display_data"
    }
   ],
   "source": [
    "sns.set_style('darkgrid')\n",
    "g = sns.FacetGrid(data,hue=\"category\",palette='coolwarm',size=6,aspect=2)\n",
    "g = g.map(plt.hist,'price',bins=20,alpha=0.7)"
   ]
  },
  {
   "cell_type": "markdown",
   "id": "16fcc781",
   "metadata": {
    "papermill": {
     "duration": 0.029316,
     "end_time": "2021-10-17T19:47:46.137524",
     "exception": false,
     "start_time": "2021-10-17T19:47:46.108208",
     "status": "completed"
    },
    "tags": []
   },
   "source": [
    "# Prepare dataset"
   ]
  },
  {
   "cell_type": "code",
   "execution_count": 12,
   "id": "78171111",
   "metadata": {
    "execution": {
     "iopub.execute_input": "2021-10-17T19:47:46.202616Z",
     "iopub.status.busy": "2021-10-17T19:47:46.201953Z",
     "iopub.status.idle": "2021-10-17T19:47:46.318037Z",
     "shell.execute_reply": "2021-10-17T19:47:46.318616Z",
     "shell.execute_reply.started": "2021-10-17T19:27:17.461657Z"
    },
    "papermill": {
     "duration": 0.151626,
     "end_time": "2021-10-17T19:47:46.318810",
     "exception": false,
     "start_time": "2021-10-17T19:47:46.167184",
     "status": "completed"
    },
    "tags": []
   },
   "outputs": [],
   "source": [
    "from sklearn.preprocessing import LabelEncoder\n",
    "\n",
    "label_encoder = LabelEncoder()\n",
    "data['numberOfRooms'] = label_encoder.fit_transform(data[\"numberOfRooms\"])\n",
    "data['category'] = label_encoder.fit_transform(data[\"category\"])\n",
    "data['PoolAndYard'] = label_encoder.fit_transform(data[\"PoolAndYard\"])"
   ]
  },
  {
   "cell_type": "code",
   "execution_count": 13,
   "id": "ee1515eb",
   "metadata": {
    "execution": {
     "iopub.execute_input": "2021-10-17T19:47:46.382644Z",
     "iopub.status.busy": "2021-10-17T19:47:46.381978Z",
     "iopub.status.idle": "2021-10-17T19:47:46.389341Z",
     "shell.execute_reply": "2021-10-17T19:47:46.389919Z",
     "shell.execute_reply.started": "2021-10-17T19:27:21.031379Z"
    },
    "papermill": {
     "duration": 0.041011,
     "end_time": "2021-10-17T19:47:46.390088",
     "exception": false,
     "start_time": "2021-10-17T19:47:46.349077",
     "status": "completed"
    },
    "tags": []
   },
   "outputs": [],
   "source": [
    "data[['hasStormProtector', 'isNewBuilt', 'hasStorageRoom']] = data[['hasStormProtector', \n",
    "                                                                 'isNewBuilt', 'hasStorageRoom']].astype(int)"
   ]
  },
  {
   "cell_type": "code",
   "execution_count": 14,
   "id": "3ad6f731",
   "metadata": {
    "execution": {
     "iopub.execute_input": "2021-10-17T19:47:46.453053Z",
     "iopub.status.busy": "2021-10-17T19:47:46.452413Z",
     "iopub.status.idle": "2021-10-17T19:47:46.466153Z",
     "shell.execute_reply": "2021-10-17T19:47:46.466753Z",
     "shell.execute_reply.started": "2021-10-17T19:27:25.053866Z"
    },
    "papermill": {
     "duration": 0.046734,
     "end_time": "2021-10-17T19:47:46.466925",
     "exception": false,
     "start_time": "2021-10-17T19:47:46.420191",
     "status": "completed"
    },
    "tags": []
   },
   "outputs": [
    {
     "data": {
      "text/html": [
       "<div>\n",
       "<style scoped>\n",
       "    .dataframe tbody tr th:only-of-type {\n",
       "        vertical-align: middle;\n",
       "    }\n",
       "\n",
       "    .dataframe tbody tr th {\n",
       "        vertical-align: top;\n",
       "    }\n",
       "\n",
       "    .dataframe thead th {\n",
       "        text-align: right;\n",
       "    }\n",
       "</style>\n",
       "<table border=\"1\" class=\"dataframe\">\n",
       "  <thead>\n",
       "    <tr style=\"text-align: right;\">\n",
       "      <th></th>\n",
       "      <th>squareMeters</th>\n",
       "      <th>numberOfRooms</th>\n",
       "      <th>floors</th>\n",
       "      <th>cityCode</th>\n",
       "      <th>cityPartRange</th>\n",
       "      <th>numPrevOwners</th>\n",
       "      <th>made</th>\n",
       "      <th>isNewBuilt</th>\n",
       "      <th>hasStormProtector</th>\n",
       "      <th>basement</th>\n",
       "      <th>attic</th>\n",
       "      <th>garage</th>\n",
       "      <th>hasStorageRoom</th>\n",
       "      <th>hasGuestRoom</th>\n",
       "      <th>price</th>\n",
       "      <th>category</th>\n",
       "      <th>PoolAndYard</th>\n",
       "    </tr>\n",
       "  </thead>\n",
       "  <tbody>\n",
       "    <tr>\n",
       "      <th>0</th>\n",
       "      <td>75523</td>\n",
       "      <td>87</td>\n",
       "      <td>63</td>\n",
       "      <td>9373</td>\n",
       "      <td>3</td>\n",
       "      <td>8</td>\n",
       "      <td>2005</td>\n",
       "      <td>0</td>\n",
       "      <td>1</td>\n",
       "      <td>4313</td>\n",
       "      <td>9005</td>\n",
       "      <td>956</td>\n",
       "      <td>0</td>\n",
       "      <td>7</td>\n",
       "      <td>7559081.5</td>\n",
       "      <td>0</td>\n",
       "      <td>1</td>\n",
       "    </tr>\n",
       "    <tr>\n",
       "      <th>1</th>\n",
       "      <td>80771</td>\n",
       "      <td>81</td>\n",
       "      <td>98</td>\n",
       "      <td>39381</td>\n",
       "      <td>8</td>\n",
       "      <td>6</td>\n",
       "      <td>2015</td>\n",
       "      <td>1</td>\n",
       "      <td>0</td>\n",
       "      <td>3653</td>\n",
       "      <td>2436</td>\n",
       "      <td>128</td>\n",
       "      <td>1</td>\n",
       "      <td>2</td>\n",
       "      <td>8085989.5</td>\n",
       "      <td>1</td>\n",
       "      <td>0</td>\n",
       "    </tr>\n",
       "    <tr>\n",
       "      <th>2</th>\n",
       "      <td>55712</td>\n",
       "      <td>15</td>\n",
       "      <td>19</td>\n",
       "      <td>34457</td>\n",
       "      <td>6</td>\n",
       "      <td>8</td>\n",
       "      <td>2021</td>\n",
       "      <td>0</td>\n",
       "      <td>0</td>\n",
       "      <td>2937</td>\n",
       "      <td>8852</td>\n",
       "      <td>135</td>\n",
       "      <td>1</td>\n",
       "      <td>9</td>\n",
       "      <td>5574642.1</td>\n",
       "      <td>0</td>\n",
       "      <td>1</td>\n",
       "    </tr>\n",
       "    <tr>\n",
       "      <th>3</th>\n",
       "      <td>32316</td>\n",
       "      <td>31</td>\n",
       "      <td>6</td>\n",
       "      <td>27939</td>\n",
       "      <td>10</td>\n",
       "      <td>4</td>\n",
       "      <td>2012</td>\n",
       "      <td>0</td>\n",
       "      <td>1</td>\n",
       "      <td>659</td>\n",
       "      <td>7141</td>\n",
       "      <td>359</td>\n",
       "      <td>0</td>\n",
       "      <td>3</td>\n",
       "      <td>3232561.2</td>\n",
       "      <td>0</td>\n",
       "      <td>3</td>\n",
       "    </tr>\n",
       "    <tr>\n",
       "      <th>4</th>\n",
       "      <td>70429</td>\n",
       "      <td>38</td>\n",
       "      <td>90</td>\n",
       "      <td>38045</td>\n",
       "      <td>3</td>\n",
       "      <td>7</td>\n",
       "      <td>1990</td>\n",
       "      <td>1</td>\n",
       "      <td>0</td>\n",
       "      <td>8435</td>\n",
       "      <td>2429</td>\n",
       "      <td>292</td>\n",
       "      <td>1</td>\n",
       "      <td>4</td>\n",
       "      <td>7055052.0</td>\n",
       "      <td>1</td>\n",
       "      <td>0</td>\n",
       "    </tr>\n",
       "  </tbody>\n",
       "</table>\n",
       "</div>"
      ],
      "text/plain": [
       "   squareMeters  numberOfRooms  floors  cityCode  cityPartRange  \\\n",
       "0         75523             87      63      9373              3   \n",
       "1         80771             81      98     39381              8   \n",
       "2         55712             15      19     34457              6   \n",
       "3         32316             31       6     27939             10   \n",
       "4         70429             38      90     38045              3   \n",
       "\n",
       "   numPrevOwners  made  isNewBuilt  hasStormProtector  basement  attic  \\\n",
       "0              8  2005           0                  1      4313   9005   \n",
       "1              6  2015           1                  0      3653   2436   \n",
       "2              8  2021           0                  0      2937   8852   \n",
       "3              4  2012           0                  1       659   7141   \n",
       "4              7  1990           1                  0      8435   2429   \n",
       "\n",
       "   garage  hasStorageRoom  hasGuestRoom      price  category  PoolAndYard  \n",
       "0     956               0             7  7559081.5         0            1  \n",
       "1     128               1             2  8085989.5         1            0  \n",
       "2     135               1             9  5574642.1         0            1  \n",
       "3     359               0             3  3232561.2         0            3  \n",
       "4     292               1             4  7055052.0         1            0  "
      ]
     },
     "execution_count": 14,
     "metadata": {},
     "output_type": "execute_result"
    }
   ],
   "source": [
    "data.head()"
   ]
  },
  {
   "cell_type": "code",
   "execution_count": 15,
   "id": "8fbb3158",
   "metadata": {
    "execution": {
     "iopub.execute_input": "2021-10-17T19:47:46.530604Z",
     "iopub.status.busy": "2021-10-17T19:47:46.529934Z",
     "iopub.status.idle": "2021-10-17T19:47:46.592186Z",
     "shell.execute_reply": "2021-10-17T19:47:46.592713Z",
     "shell.execute_reply.started": "2021-10-17T19:29:18.250285Z"
    },
    "papermill": {
     "duration": 0.095664,
     "end_time": "2021-10-17T19:47:46.592887",
     "exception": false,
     "start_time": "2021-10-17T19:47:46.497223",
     "status": "completed"
    },
    "tags": []
   },
   "outputs": [
    {
     "data": {
      "text/html": [
       "<div>\n",
       "<style scoped>\n",
       "    .dataframe tbody tr th:only-of-type {\n",
       "        vertical-align: middle;\n",
       "    }\n",
       "\n",
       "    .dataframe tbody tr th {\n",
       "        vertical-align: top;\n",
       "    }\n",
       "\n",
       "    .dataframe thead th {\n",
       "        text-align: right;\n",
       "    }\n",
       "</style>\n",
       "<table border=\"1\" class=\"dataframe\">\n",
       "  <thead>\n",
       "    <tr style=\"text-align: right;\">\n",
       "      <th></th>\n",
       "      <th>squareMeters</th>\n",
       "      <th>numberOfRooms</th>\n",
       "      <th>floors</th>\n",
       "      <th>cityCode</th>\n",
       "      <th>cityPartRange</th>\n",
       "      <th>numPrevOwners</th>\n",
       "      <th>made</th>\n",
       "      <th>isNewBuilt</th>\n",
       "      <th>hasStormProtector</th>\n",
       "      <th>basement</th>\n",
       "      <th>attic</th>\n",
       "      <th>garage</th>\n",
       "      <th>hasStorageRoom</th>\n",
       "      <th>hasGuestRoom</th>\n",
       "      <th>price</th>\n",
       "      <th>category</th>\n",
       "      <th>PoolAndYard</th>\n",
       "    </tr>\n",
       "  </thead>\n",
       "  <tbody>\n",
       "    <tr>\n",
       "      <th>count</th>\n",
       "      <td>10000.00000</td>\n",
       "      <td>10000.000000</td>\n",
       "      <td>10000.000000</td>\n",
       "      <td>10000.000000</td>\n",
       "      <td>10000.000000</td>\n",
       "      <td>10000.000000</td>\n",
       "      <td>10000.00000</td>\n",
       "      <td>10000.000000</td>\n",
       "      <td>10000.000000</td>\n",
       "      <td>10000.000000</td>\n",
       "      <td>10000.00000</td>\n",
       "      <td>10000.00000</td>\n",
       "      <td>10000.000000</td>\n",
       "      <td>10000.00000</td>\n",
       "      <td>1.000000e+04</td>\n",
       "      <td>10000.000000</td>\n",
       "      <td>10000.000000</td>\n",
       "    </tr>\n",
       "    <tr>\n",
       "      <th>mean</th>\n",
       "      <td>49870.13120</td>\n",
       "      <td>49.534500</td>\n",
       "      <td>50.276300</td>\n",
       "      <td>50225.486100</td>\n",
       "      <td>5.510100</td>\n",
       "      <td>5.521700</td>\n",
       "      <td>2005.48850</td>\n",
       "      <td>0.499100</td>\n",
       "      <td>0.499900</td>\n",
       "      <td>5033.103900</td>\n",
       "      <td>5028.01060</td>\n",
       "      <td>553.12120</td>\n",
       "      <td>0.503000</td>\n",
       "      <td>4.99460</td>\n",
       "      <td>4.993448e+06</td>\n",
       "      <td>0.126500</td>\n",
       "      <td>1.497700</td>\n",
       "    </tr>\n",
       "    <tr>\n",
       "      <th>std</th>\n",
       "      <td>28774.37535</td>\n",
       "      <td>29.017712</td>\n",
       "      <td>28.889171</td>\n",
       "      <td>29006.675799</td>\n",
       "      <td>2.872024</td>\n",
       "      <td>2.856667</td>\n",
       "      <td>9.30809</td>\n",
       "      <td>0.500024</td>\n",
       "      <td>0.500025</td>\n",
       "      <td>2876.729545</td>\n",
       "      <td>2894.33221</td>\n",
       "      <td>262.05017</td>\n",
       "      <td>0.500016</td>\n",
       "      <td>3.17641</td>\n",
       "      <td>2.877424e+06</td>\n",
       "      <td>0.332429</td>\n",
       "      <td>1.124954</td>\n",
       "    </tr>\n",
       "    <tr>\n",
       "      <th>min</th>\n",
       "      <td>89.00000</td>\n",
       "      <td>0.000000</td>\n",
       "      <td>1.000000</td>\n",
       "      <td>3.000000</td>\n",
       "      <td>1.000000</td>\n",
       "      <td>1.000000</td>\n",
       "      <td>1990.00000</td>\n",
       "      <td>0.000000</td>\n",
       "      <td>0.000000</td>\n",
       "      <td>0.000000</td>\n",
       "      <td>1.00000</td>\n",
       "      <td>100.00000</td>\n",
       "      <td>0.000000</td>\n",
       "      <td>0.00000</td>\n",
       "      <td>1.031350e+04</td>\n",
       "      <td>0.000000</td>\n",
       "      <td>0.000000</td>\n",
       "    </tr>\n",
       "    <tr>\n",
       "      <th>25%</th>\n",
       "      <td>25098.50000</td>\n",
       "      <td>24.000000</td>\n",
       "      <td>25.000000</td>\n",
       "      <td>24693.750000</td>\n",
       "      <td>3.000000</td>\n",
       "      <td>3.000000</td>\n",
       "      <td>1997.00000</td>\n",
       "      <td>0.000000</td>\n",
       "      <td>0.000000</td>\n",
       "      <td>2559.750000</td>\n",
       "      <td>2512.00000</td>\n",
       "      <td>327.75000</td>\n",
       "      <td>0.000000</td>\n",
       "      <td>2.00000</td>\n",
       "      <td>2.516402e+06</td>\n",
       "      <td>0.000000</td>\n",
       "      <td>0.000000</td>\n",
       "    </tr>\n",
       "    <tr>\n",
       "      <th>50%</th>\n",
       "      <td>50105.50000</td>\n",
       "      <td>49.000000</td>\n",
       "      <td>50.000000</td>\n",
       "      <td>50693.000000</td>\n",
       "      <td>5.000000</td>\n",
       "      <td>5.000000</td>\n",
       "      <td>2005.50000</td>\n",
       "      <td>0.000000</td>\n",
       "      <td>0.000000</td>\n",
       "      <td>5092.500000</td>\n",
       "      <td>5045.00000</td>\n",
       "      <td>554.00000</td>\n",
       "      <td>1.000000</td>\n",
       "      <td>5.00000</td>\n",
       "      <td>5.016180e+06</td>\n",
       "      <td>0.000000</td>\n",
       "      <td>2.000000</td>\n",
       "    </tr>\n",
       "    <tr>\n",
       "      <th>75%</th>\n",
       "      <td>74609.75000</td>\n",
       "      <td>75.000000</td>\n",
       "      <td>76.000000</td>\n",
       "      <td>75683.250000</td>\n",
       "      <td>8.000000</td>\n",
       "      <td>8.000000</td>\n",
       "      <td>2014.00000</td>\n",
       "      <td>1.000000</td>\n",
       "      <td>1.000000</td>\n",
       "      <td>7511.250000</td>\n",
       "      <td>7540.50000</td>\n",
       "      <td>777.25000</td>\n",
       "      <td>1.000000</td>\n",
       "      <td>8.00000</td>\n",
       "      <td>7.469092e+06</td>\n",
       "      <td>0.000000</td>\n",
       "      <td>3.000000</td>\n",
       "    </tr>\n",
       "    <tr>\n",
       "      <th>max</th>\n",
       "      <td>99999.00000</td>\n",
       "      <td>99.000000</td>\n",
       "      <td>100.000000</td>\n",
       "      <td>99953.000000</td>\n",
       "      <td>10.000000</td>\n",
       "      <td>10.000000</td>\n",
       "      <td>2021.00000</td>\n",
       "      <td>1.000000</td>\n",
       "      <td>1.000000</td>\n",
       "      <td>10000.000000</td>\n",
       "      <td>10000.00000</td>\n",
       "      <td>1000.00000</td>\n",
       "      <td>1.000000</td>\n",
       "      <td>10.00000</td>\n",
       "      <td>1.000677e+07</td>\n",
       "      <td>1.000000</td>\n",
       "      <td>3.000000</td>\n",
       "    </tr>\n",
       "  </tbody>\n",
       "</table>\n",
       "</div>"
      ],
      "text/plain": [
       "       squareMeters  numberOfRooms        floors      cityCode  cityPartRange  \\\n",
       "count   10000.00000   10000.000000  10000.000000  10000.000000   10000.000000   \n",
       "mean    49870.13120      49.534500     50.276300  50225.486100       5.510100   \n",
       "std     28774.37535      29.017712     28.889171  29006.675799       2.872024   \n",
       "min        89.00000       0.000000      1.000000      3.000000       1.000000   \n",
       "25%     25098.50000      24.000000     25.000000  24693.750000       3.000000   \n",
       "50%     50105.50000      49.000000     50.000000  50693.000000       5.000000   \n",
       "75%     74609.75000      75.000000     76.000000  75683.250000       8.000000   \n",
       "max     99999.00000      99.000000    100.000000  99953.000000      10.000000   \n",
       "\n",
       "       numPrevOwners         made    isNewBuilt  hasStormProtector  \\\n",
       "count   10000.000000  10000.00000  10000.000000       10000.000000   \n",
       "mean        5.521700   2005.48850      0.499100           0.499900   \n",
       "std         2.856667      9.30809      0.500024           0.500025   \n",
       "min         1.000000   1990.00000      0.000000           0.000000   \n",
       "25%         3.000000   1997.00000      0.000000           0.000000   \n",
       "50%         5.000000   2005.50000      0.000000           0.000000   \n",
       "75%         8.000000   2014.00000      1.000000           1.000000   \n",
       "max        10.000000   2021.00000      1.000000           1.000000   \n",
       "\n",
       "           basement        attic       garage  hasStorageRoom  hasGuestRoom  \\\n",
       "count  10000.000000  10000.00000  10000.00000    10000.000000   10000.00000   \n",
       "mean    5033.103900   5028.01060    553.12120        0.503000       4.99460   \n",
       "std     2876.729545   2894.33221    262.05017        0.500016       3.17641   \n",
       "min        0.000000      1.00000    100.00000        0.000000       0.00000   \n",
       "25%     2559.750000   2512.00000    327.75000        0.000000       2.00000   \n",
       "50%     5092.500000   5045.00000    554.00000        1.000000       5.00000   \n",
       "75%     7511.250000   7540.50000    777.25000        1.000000       8.00000   \n",
       "max    10000.000000  10000.00000   1000.00000        1.000000      10.00000   \n",
       "\n",
       "              price      category   PoolAndYard  \n",
       "count  1.000000e+04  10000.000000  10000.000000  \n",
       "mean   4.993448e+06      0.126500      1.497700  \n",
       "std    2.877424e+06      0.332429      1.124954  \n",
       "min    1.031350e+04      0.000000      0.000000  \n",
       "25%    2.516402e+06      0.000000      0.000000  \n",
       "50%    5.016180e+06      0.000000      2.000000  \n",
       "75%    7.469092e+06      0.000000      3.000000  \n",
       "max    1.000677e+07      1.000000      3.000000  "
      ]
     },
     "execution_count": 15,
     "metadata": {},
     "output_type": "execute_result"
    }
   ],
   "source": [
    "data.describe()"
   ]
  },
  {
   "cell_type": "markdown",
   "id": "903bfb0e",
   "metadata": {
    "papermill": {
     "duration": 0.030868,
     "end_time": "2021-10-17T19:47:46.654768",
     "exception": false,
     "start_time": "2021-10-17T19:47:46.623900",
     "status": "completed"
    },
    "tags": []
   },
   "source": [
    "# Стандартизация данных"
   ]
  },
  {
   "cell_type": "markdown",
   "id": "ef58d0a8",
   "metadata": {
    "papermill": {
     "duration": 0.031199,
     "end_time": "2021-10-17T19:47:46.718543",
     "exception": false,
     "start_time": "2021-10-17T19:47:46.687344",
     "status": "completed"
    },
    "tags": []
   },
   "source": [
    "Поскольку алгоритм K-ближайших соседей делает прогнозы относительно точки данных (семпла), используя наиболее близкие к ней наблюдения, существующий масштаб показателей в датасете имеет большое значение.\n",
    "\n",
    "Из-за этого специалисты по машинному обучению обычно стандартизируют набор данных, что означает корректировку каждого значения x так, чтобы они находились примерно в одном диапазоне."
   ]
  },
  {
   "cell_type": "code",
   "execution_count": 16,
   "id": "dd686610",
   "metadata": {
    "execution": {
     "iopub.execute_input": "2021-10-17T19:47:46.787404Z",
     "iopub.status.busy": "2021-10-17T19:47:46.786714Z",
     "iopub.status.idle": "2021-10-17T19:47:46.789622Z",
     "shell.execute_reply": "2021-10-17T19:47:46.788890Z",
     "shell.execute_reply.started": "2021-10-17T19:29:59.030128Z"
    },
    "papermill": {
     "duration": 0.038635,
     "end_time": "2021-10-17T19:47:46.789800",
     "exception": false,
     "start_time": "2021-10-17T19:47:46.751165",
     "status": "completed"
    },
    "tags": []
   },
   "outputs": [],
   "source": [
    "from sklearn.preprocessing import StandardScaler"
   ]
  },
  {
   "cell_type": "code",
   "execution_count": 17,
   "id": "c9b94a57",
   "metadata": {
    "execution": {
     "iopub.execute_input": "2021-10-17T19:47:46.855985Z",
     "iopub.status.busy": "2021-10-17T19:47:46.855364Z",
     "iopub.status.idle": "2021-10-17T19:47:46.866694Z",
     "shell.execute_reply": "2021-10-17T19:47:46.867208Z",
     "shell.execute_reply.started": "2021-10-17T19:31:30.979221Z"
    },
    "papermill": {
     "duration": 0.046191,
     "end_time": "2021-10-17T19:47:46.867394",
     "exception": false,
     "start_time": "2021-10-17T19:47:46.821203",
     "status": "completed"
    },
    "tags": []
   },
   "outputs": [],
   "source": [
    "scaler = StandardScaler()\n",
    "scaler.fit(data)\n",
    "scaled_features = scaler.transform(data)"
   ]
  },
  {
   "cell_type": "markdown",
   "id": "f8af02b8",
   "metadata": {
    "papermill": {
     "duration": 0.031894,
     "end_time": "2021-10-17T19:47:46.930530",
     "exception": false,
     "start_time": "2021-10-17T19:47:46.898636",
     "status": "completed"
    },
    "tags": []
   },
   "source": [
    "В качестве результата мы получили массив NumPy со всеми точками данных из датасета, но нам желательно преобразовать его в формат DataFrame библиотеки pandas"
   ]
  },
  {
   "cell_type": "code",
   "execution_count": 18,
   "id": "6232b286",
   "metadata": {
    "execution": {
     "iopub.execute_input": "2021-10-17T19:47:46.996668Z",
     "iopub.status.busy": "2021-10-17T19:47:46.995963Z",
     "iopub.status.idle": "2021-10-17T19:47:46.999169Z",
     "shell.execute_reply": "2021-10-17T19:47:46.999676Z",
     "shell.execute_reply.started": "2021-10-17T19:31:38.067855Z"
    },
    "papermill": {
     "duration": 0.038158,
     "end_time": "2021-10-17T19:47:46.999846",
     "exception": false,
     "start_time": "2021-10-17T19:47:46.961688",
     "status": "completed"
    },
    "tags": []
   },
   "outputs": [],
   "source": [
    "scaled_data = pd.DataFrame(scaled_features, columns = data.columns)"
   ]
  },
  {
   "cell_type": "code",
   "execution_count": 19,
   "id": "81eb9e12",
   "metadata": {
    "execution": {
     "iopub.execute_input": "2021-10-17T19:47:47.066700Z",
     "iopub.status.busy": "2021-10-17T19:47:47.065713Z",
     "iopub.status.idle": "2021-10-17T19:47:47.085116Z",
     "shell.execute_reply": "2021-10-17T19:47:47.085585Z",
     "shell.execute_reply.started": "2021-10-17T19:31:51.382483Z"
    },
    "papermill": {
     "duration": 0.05453,
     "end_time": "2021-10-17T19:47:47.085758",
     "exception": false,
     "start_time": "2021-10-17T19:47:47.031228",
     "status": "completed"
    },
    "tags": []
   },
   "outputs": [
    {
     "data": {
      "text/html": [
       "<div>\n",
       "<style scoped>\n",
       "    .dataframe tbody tr th:only-of-type {\n",
       "        vertical-align: middle;\n",
       "    }\n",
       "\n",
       "    .dataframe tbody tr th {\n",
       "        vertical-align: top;\n",
       "    }\n",
       "\n",
       "    .dataframe thead th {\n",
       "        text-align: right;\n",
       "    }\n",
       "</style>\n",
       "<table border=\"1\" class=\"dataframe\">\n",
       "  <thead>\n",
       "    <tr style=\"text-align: right;\">\n",
       "      <th></th>\n",
       "      <th>squareMeters</th>\n",
       "      <th>numberOfRooms</th>\n",
       "      <th>floors</th>\n",
       "      <th>cityCode</th>\n",
       "      <th>cityPartRange</th>\n",
       "      <th>numPrevOwners</th>\n",
       "      <th>made</th>\n",
       "      <th>isNewBuilt</th>\n",
       "      <th>hasStormProtector</th>\n",
       "      <th>basement</th>\n",
       "      <th>attic</th>\n",
       "      <th>garage</th>\n",
       "      <th>hasStorageRoom</th>\n",
       "      <th>hasGuestRoom</th>\n",
       "      <th>price</th>\n",
       "      <th>category</th>\n",
       "      <th>PoolAndYard</th>\n",
       "    </tr>\n",
       "  </thead>\n",
       "  <tbody>\n",
       "    <tr>\n",
       "      <th>0</th>\n",
       "      <td>0.891562</td>\n",
       "      <td>1.291190</td>\n",
       "      <td>0.440453</td>\n",
       "      <td>-1.408453</td>\n",
       "      <td>-0.874027</td>\n",
       "      <td>0.867593</td>\n",
       "      <td>-0.052484</td>\n",
       "      <td>-0.998202</td>\n",
       "      <td>1.0002</td>\n",
       "      <td>-0.250333</td>\n",
       "      <td>1.374130</td>\n",
       "      <td>1.537488</td>\n",
       "      <td>-1.006018</td>\n",
       "      <td>0.631373</td>\n",
       "      <td>0.891687</td>\n",
       "      <td>-0.380552</td>\n",
       "      <td>-0.442440</td>\n",
       "    </tr>\n",
       "    <tr>\n",
       "      <th>1</th>\n",
       "      <td>1.073956</td>\n",
       "      <td>1.084409</td>\n",
       "      <td>1.652041</td>\n",
       "      <td>-0.373880</td>\n",
       "      <td>0.866993</td>\n",
       "      <td>0.167441</td>\n",
       "      <td>1.021904</td>\n",
       "      <td>1.001802</td>\n",
       "      <td>-0.9998</td>\n",
       "      <td>-0.479772</td>\n",
       "      <td>-0.895592</td>\n",
       "      <td>-1.622370</td>\n",
       "      <td>0.994018</td>\n",
       "      <td>-0.942810</td>\n",
       "      <td>1.074814</td>\n",
       "      <td>2.627763</td>\n",
       "      <td>-1.331410</td>\n",
       "    </tr>\n",
       "    <tr>\n",
       "      <th>2</th>\n",
       "      <td>0.203033</td>\n",
       "      <td>-1.190177</td>\n",
       "      <td>-1.082685</td>\n",
       "      <td>-0.543643</td>\n",
       "      <td>0.170585</td>\n",
       "      <td>0.867593</td>\n",
       "      <td>1.666537</td>\n",
       "      <td>-0.998202</td>\n",
       "      <td>-0.9998</td>\n",
       "      <td>-0.728678</td>\n",
       "      <td>1.321265</td>\n",
       "      <td>-1.595657</td>\n",
       "      <td>0.994018</td>\n",
       "      <td>1.261046</td>\n",
       "      <td>0.201994</td>\n",
       "      <td>-0.380552</td>\n",
       "      <td>-0.442440</td>\n",
       "    </tr>\n",
       "    <tr>\n",
       "      <th>3</th>\n",
       "      <td>-0.610092</td>\n",
       "      <td>-0.638763</td>\n",
       "      <td>-1.532703</td>\n",
       "      <td>-0.768361</td>\n",
       "      <td>1.563401</td>\n",
       "      <td>-0.532710</td>\n",
       "      <td>0.699588</td>\n",
       "      <td>-0.998202</td>\n",
       "      <td>1.0002</td>\n",
       "      <td>-1.520589</td>\n",
       "      <td>0.730080</td>\n",
       "      <td>-0.740816</td>\n",
       "      <td>-1.006018</td>\n",
       "      <td>-0.627973</td>\n",
       "      <td>-0.611997</td>\n",
       "      <td>-0.380552</td>\n",
       "      <td>1.335499</td>\n",
       "    </tr>\n",
       "    <tr>\n",
       "      <th>4</th>\n",
       "      <td>0.714521</td>\n",
       "      <td>-0.397518</td>\n",
       "      <td>1.375106</td>\n",
       "      <td>-0.419941</td>\n",
       "      <td>-0.874027</td>\n",
       "      <td>0.517517</td>\n",
       "      <td>-1.664066</td>\n",
       "      <td>1.001802</td>\n",
       "      <td>-0.9998</td>\n",
       "      <td>1.182616</td>\n",
       "      <td>-0.898010</td>\n",
       "      <td>-0.996505</td>\n",
       "      <td>0.994018</td>\n",
       "      <td>-0.313136</td>\n",
       "      <td>0.716512</td>\n",
       "      <td>2.627763</td>\n",
       "      <td>-1.331410</td>\n",
       "    </tr>\n",
       "  </tbody>\n",
       "</table>\n",
       "</div>"
      ],
      "text/plain": [
       "   squareMeters  numberOfRooms    floors  cityCode  cityPartRange  \\\n",
       "0      0.891562       1.291190  0.440453 -1.408453      -0.874027   \n",
       "1      1.073956       1.084409  1.652041 -0.373880       0.866993   \n",
       "2      0.203033      -1.190177 -1.082685 -0.543643       0.170585   \n",
       "3     -0.610092      -0.638763 -1.532703 -0.768361       1.563401   \n",
       "4      0.714521      -0.397518  1.375106 -0.419941      -0.874027   \n",
       "\n",
       "   numPrevOwners      made  isNewBuilt  hasStormProtector  basement     attic  \\\n",
       "0       0.867593 -0.052484   -0.998202             1.0002 -0.250333  1.374130   \n",
       "1       0.167441  1.021904    1.001802            -0.9998 -0.479772 -0.895592   \n",
       "2       0.867593  1.666537   -0.998202            -0.9998 -0.728678  1.321265   \n",
       "3      -0.532710  0.699588   -0.998202             1.0002 -1.520589  0.730080   \n",
       "4       0.517517 -1.664066    1.001802            -0.9998  1.182616 -0.898010   \n",
       "\n",
       "     garage  hasStorageRoom  hasGuestRoom     price  category  PoolAndYard  \n",
       "0  1.537488       -1.006018      0.631373  0.891687 -0.380552    -0.442440  \n",
       "1 -1.622370        0.994018     -0.942810  1.074814  2.627763    -1.331410  \n",
       "2 -1.595657        0.994018      1.261046  0.201994 -0.380552    -0.442440  \n",
       "3 -0.740816       -1.006018     -0.627973 -0.611997 -0.380552     1.335499  \n",
       "4 -0.996505        0.994018     -0.313136  0.716512  2.627763    -1.331410  "
      ]
     },
     "execution_count": 19,
     "metadata": {},
     "output_type": "execute_result"
    }
   ],
   "source": [
    "scaled_data.head()"
   ]
  },
  {
   "cell_type": "markdown",
   "id": "96632d93",
   "metadata": {
    "papermill": {
     "duration": 0.032504,
     "end_time": "2021-10-17T19:47:47.150079",
     "exception": false,
     "start_time": "2021-10-17T19:47:47.117575",
     "status": "completed"
    },
    "tags": []
   },
   "source": [
    "# Model"
   ]
  },
  {
   "cell_type": "code",
   "execution_count": 20,
   "id": "79f9700e",
   "metadata": {
    "execution": {
     "iopub.execute_input": "2021-10-17T19:47:47.217432Z",
     "iopub.status.busy": "2021-10-17T19:47:47.216481Z",
     "iopub.status.idle": "2021-10-17T19:47:47.463529Z",
     "shell.execute_reply": "2021-10-17T19:47:47.462905Z",
     "shell.execute_reply.started": "2021-10-17T19:32:11.563368Z"
    },
    "papermill": {
     "duration": 0.281851,
     "end_time": "2021-10-17T19:47:47.463696",
     "exception": false,
     "start_time": "2021-10-17T19:47:47.181845",
     "status": "completed"
    },
    "tags": []
   },
   "outputs": [],
   "source": [
    "from sklearn.model_selection import train_test_split\n",
    "from sklearn.cluster import KMeans"
   ]
  },
  {
   "cell_type": "code",
   "execution_count": 21,
   "id": "00230c5f",
   "metadata": {
    "execution": {
     "iopub.execute_input": "2021-10-17T19:47:47.535149Z",
     "iopub.status.busy": "2021-10-17T19:47:47.534402Z",
     "iopub.status.idle": "2021-10-17T19:48:08.465598Z",
     "shell.execute_reply": "2021-10-17T19:48:08.464944Z",
     "shell.execute_reply.started": "2021-10-17T19:39:07.103054Z"
    },
    "papermill": {
     "duration": 20.970243,
     "end_time": "2021-10-17T19:48:08.465774",
     "exception": false,
     "start_time": "2021-10-17T19:47:47.495531",
     "status": "completed"
    },
    "tags": []
   },
   "outputs": [],
   "source": [
    "wcss=[]\n",
    "for i in range(1,100, 20):\n",
    "    kmeans = KMeans(n_clusters= i, init='k-means++', random_state=0)\n",
    "    kmeans.fit(scaled_data)\n",
    "    wcss.append(kmeans.inertia_)"
   ]
  },
  {
   "cell_type": "code",
   "execution_count": 22,
   "id": "8c94e9b4",
   "metadata": {
    "execution": {
     "iopub.execute_input": "2021-10-17T19:48:08.556563Z",
     "iopub.status.busy": "2021-10-17T19:48:08.555786Z",
     "iopub.status.idle": "2021-10-17T19:48:08.805848Z",
     "shell.execute_reply": "2021-10-17T19:48:08.806453Z",
     "shell.execute_reply.started": "2021-10-17T19:39:55.796371Z"
    },
    "papermill": {
     "duration": 0.30187,
     "end_time": "2021-10-17T19:48:08.806651",
     "exception": false,
     "start_time": "2021-10-17T19:48:08.504781",
     "status": "completed"
    },
    "tags": []
   },
   "outputs": [
    {
     "data": {
      "image/png": "[encoded data removed]",
      "text/plain": [
       "<Figure size 432x288 with 1 Axes>"
      ]
     },
     "metadata": {},
     "output_type": "display_data"
    }
   ],
   "source": [
    "plt.plot(range(1,100, 20), wcss)\n",
    "plt.title('Метод локтя')\n",
    "plt.xlabel('Количество кластеров')\n",
    "plt.ylabel('wcss')\n",
    "plt.show()"
   ]
  },
  {
   "cell_type": "code",
   "execution_count": 23,
   "id": "cfeb7204",
   "metadata": {
    "execution": {
     "iopub.execute_input": "2021-10-17T19:48:08.893475Z",
     "iopub.status.busy": "2021-10-17T19:48:08.891210Z",
     "iopub.status.idle": "2021-10-17T19:48:08.894259Z",
     "shell.execute_reply": "2021-10-17T19:48:08.894830Z",
     "shell.execute_reply.started": "2021-10-17T19:42:33.675476Z"
    },
    "papermill": {
     "duration": 0.048275,
     "end_time": "2021-10-17T19:48:08.895019",
     "exception": false,
     "start_time": "2021-10-17T19:48:08.846744",
     "status": "completed"
    },
    "tags": []
   },
   "outputs": [],
   "source": [
    "from itertools import combinations"
   ]
  },
  {
   "cell_type": "code",
   "execution_count": 24,
   "id": "2418fb55",
   "metadata": {
    "execution": {
     "iopub.execute_input": "2021-10-17T19:48:08.982678Z",
     "iopub.status.busy": "2021-10-17T19:48:08.981839Z",
     "iopub.status.idle": "2021-10-17T19:48:08.983958Z",
     "shell.execute_reply": "2021-10-17T19:48:08.983299Z",
     "shell.execute_reply.started": "2021-10-17T19:42:55.67313Z"
    },
    "papermill": {
     "duration": 0.048887,
     "end_time": "2021-10-17T19:48:08.984113",
     "exception": false,
     "start_time": "2021-10-17T19:48:08.935226",
     "status": "completed"
    },
    "tags": []
   },
   "outputs": [],
   "source": [
    "lst_vars=list(combinations(scaled_data.columns,2))"
   ]
  },
  {
   "cell_type": "code",
   "execution_count": 25,
   "id": "ff96bff4",
   "metadata": {
    "execution": {
     "iopub.execute_input": "2021-10-17T19:48:09.071818Z",
     "iopub.status.busy": "2021-10-17T19:48:09.070919Z",
     "iopub.status.idle": "2021-10-17T19:48:09.074279Z",
     "shell.execute_reply": "2021-10-17T19:48:09.072459Z",
     "shell.execute_reply.started": "2021-10-17T19:43:10.268585Z"
    },
    "papermill": {
     "duration": 0.051036,
     "end_time": "2021-10-17T19:48:09.074455",
     "exception": false,
     "start_time": "2021-10-17T19:48:09.023419",
     "status": "completed"
    },
    "tags": []
   },
   "outputs": [
    {
     "data": {
      "text/plain": [
       "136"
      ]
     },
     "execution_count": 25,
     "metadata": {},
     "output_type": "execute_result"
    }
   ],
   "source": [
    "len(lst_vars)"
   ]
  }
 ],
 "metadata": {
  "kernelspec": {
   "display_name": "Python 3",
   "language": "python",
   "name": "python3"
  },
  "language_info": {
   "codemirror_mode": {
    "name": "ipython",
    "version": 3
   },
   "file_extension": ".py",
   "mimetype": "text/x-python",
   "name": "python",
   "nbconvert_exporter": "python",
   "pygments_lexer": "ipython3",
   "version": "3.7.10"
  },
  "papermill": {
   "default_parameters": {},
   "duration": 35.751866,
   "end_time": "2021-10-17T19:48:09.927471",
   "environment_variables": {},
   "exception": null,
   "input_path": "__notebook__.ipynb",
   "output_path": "__notebook__.ipynb",
   "parameters": {},
   "start_time": "2021-10-17T19:47:34.175605",
   "version": "2.3.3"
  }
 },
 "nbformat": 4,
 "nbformat_minor": 5
}
