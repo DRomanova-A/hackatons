{
 "cells": [
  {
   "cell_type": "code",
   "execution_count": 1,
   "id": "d0d35091",
   "metadata": {
    "_cell_guid": "b1076dfc-b9ad-4769-8c92-a6c4dae69d19",
    "_uuid": "8f2839f25d086af736a60e9eeb907d3b93b6e0e5",
    "execution": {
     "iopub.execute_input": "2021-10-15T21:35:00.165303Z",
     "iopub.status.busy": "2021-10-15T21:35:00.163985Z",
     "iopub.status.idle": "2021-10-15T21:35:00.191890Z",
     "shell.execute_reply": "2021-10-15T21:35:00.192505Z",
     "shell.execute_reply.started": "2021-10-15T20:53:49.497009Z"
    },
    "papermill": {
     "duration": 0.06144,
     "end_time": "2021-10-15T21:35:00.192854",
     "exception": false,
     "start_time": "2021-10-15T21:35:00.131414",
     "status": "completed"
    },
    "tags": []
   },
   "outputs": [
    {
     "name": "stdout",
     "output_type": "stream",
     "text": [
      "/kaggle/input/gender-odb/gender.csv\n"
     ]
    }
   ],
   "source": [
    "import numpy as np\n",
    "import pandas as pd\n",
    "\n",
    "import os\n",
    "for dirname, _, filenames in os.walk('/kaggle/input'):\n",
    "    for filename in filenames:\n",
    "        print(os.path.join(dirname, filename))"
   ]
  },
  {
   "cell_type": "code",
   "execution_count": 2,
   "id": "85e56543",
   "metadata": {
    "execution": {
     "iopub.execute_input": "2021-10-15T21:35:00.236087Z",
     "iopub.status.busy": "2021-10-15T21:35:00.233389Z",
     "iopub.status.idle": "2021-10-15T21:35:01.732132Z",
     "shell.execute_reply": "2021-10-15T21:35:01.731370Z",
     "shell.execute_reply.started": "2021-10-15T21:20:42.464655Z"
    },
    "papermill": {
     "duration": 1.520632,
     "end_time": "2021-10-15T21:35:01.732283",
     "exception": false,
     "start_time": "2021-10-15T21:35:00.211651",
     "status": "completed"
    },
    "tags": []
   },
   "outputs": [],
   "source": [
    "import time\n",
    "import re\n",
    "\n",
    "import matplotlib.pyplot as plt\n",
    "import seaborn as sns\n",
    "\n",
    "from sklearn.model_selection import train_test_split\n",
    "\n",
    "from sklearn import metrics\n",
    "from sklearn.metrics import roc_curve\n",
    "from sklearn.metrics import roc_auc_score\n",
    "from sklearn.metrics import confusion_matrix\n",
    "\n",
    "from xgboost import XGBClassifier"
   ]
  },
  {
   "cell_type": "code",
   "execution_count": 3,
   "id": "4cc1a490",
   "metadata": {
    "execution": {
     "iopub.execute_input": "2021-10-15T21:35:01.775255Z",
     "iopub.status.busy": "2021-10-15T21:35:01.774191Z",
     "iopub.status.idle": "2021-10-15T21:35:01.837248Z",
     "shell.execute_reply": "2021-10-15T21:35:01.836552Z",
     "shell.execute_reply.started": "2021-10-15T20:59:16.653255Z"
    },
    "papermill": {
     "duration": 0.086083,
     "end_time": "2021-10-15T21:35:01.837416",
     "exception": false,
     "start_time": "2021-10-15T21:35:01.751333",
     "status": "completed"
    },
    "tags": []
   },
   "outputs": [
    {
     "name": "stdout",
     "output_type": "stream",
     "text": [
      "CPU times: user 26.4 ms, sys: 9.09 ms, total: 35.5 ms\n",
      "Wall time: 52.2 ms\n"
     ]
    }
   ],
   "source": [
    "%%time\n",
    "\n",
    "data1 = pd.read_csv('/kaggle/input/gender-odb/gender.csv', usecols=['long_hair', 'forehead_width_cm', 'forehead_height_cm',\n",
    "                                       'forehead_width_mm', 'forehead_width_conventional_units',\n",
    "                                       'nose_wide', 'nose_long', 'lips_thin', 'distance_nose_to_lip_long',\n",
    "                                       'gender'],index_col=False)\n",
    "data2 = pd.read_csv('/kaggle/input/gender-odb/gender.csv', usecols=['long_hair.1', 'forehead_width_cm.1', 'forehead_height_cm.1',\n",
    "                                       'forehead_width_mm.1', 'forehead_width_conventional_units.1',\n",
    "                                       'nose_wide.1', 'nose_long.1', 'lips_thin.1', 'distance_nose_to_lip_long.1',                                       'gender.1'],index_col=False)\n"
   ]
  },
  {
   "cell_type": "code",
   "execution_count": 4,
   "id": "f429ef1c",
   "metadata": {
    "execution": {
     "iopub.execute_input": "2021-10-15T21:35:01.885201Z",
     "iopub.status.busy": "2021-10-15T21:35:01.884400Z",
     "iopub.status.idle": "2021-10-15T21:35:01.908970Z",
     "shell.execute_reply": "2021-10-15T21:35:01.909554Z",
     "shell.execute_reply.started": "2021-10-15T20:59:30.790220Z"
    },
    "papermill": {
     "duration": 0.052997,
     "end_time": "2021-10-15T21:35:01.909735",
     "exception": false,
     "start_time": "2021-10-15T21:35:01.856738",
     "status": "completed"
    },
    "tags": []
   },
   "outputs": [
    {
     "data": {
      "text/html": [
       "<div>\n",
       "<style scoped>\n",
       "    .dataframe tbody tr th:only-of-type {\n",
       "        vertical-align: middle;\n",
       "    }\n",
       "\n",
       "    .dataframe tbody tr th {\n",
       "        vertical-align: top;\n",
       "    }\n",
       "\n",
       "    .dataframe thead th {\n",
       "        text-align: right;\n",
       "    }\n",
       "</style>\n",
       "<table border=\"1\" class=\"dataframe\">\n",
       "  <thead>\n",
       "    <tr style=\"text-align: right;\">\n",
       "      <th></th>\n",
       "      <th>long_hair</th>\n",
       "      <th>forehead_width_cm</th>\n",
       "      <th>forehead_height_cm</th>\n",
       "      <th>forehead_width_mm</th>\n",
       "      <th>forehead_width_conventional_units</th>\n",
       "      <th>nose_wide</th>\n",
       "      <th>nose_long</th>\n",
       "      <th>lips_thin</th>\n",
       "      <th>distance_nose_to_lip_long</th>\n",
       "      <th>gender</th>\n",
       "    </tr>\n",
       "  </thead>\n",
       "  <tbody>\n",
       "    <tr>\n",
       "      <th>0</th>\n",
       "      <td>0.704275</td>\n",
       "      <td>11.8</td>\n",
       "      <td>6.1</td>\n",
       "      <td>118.0</td>\n",
       "      <td>0.025806</td>\n",
       "      <td>0.895614</td>\n",
       "      <td>0.477485</td>\n",
       "      <td>0.841261</td>\n",
       "      <td>0.902628</td>\n",
       "      <td>NaN</td>\n",
       "    </tr>\n",
       "    <tr>\n",
       "      <th>1</th>\n",
       "      <td>0.118690</td>\n",
       "      <td>14.0</td>\n",
       "      <td>5.4</td>\n",
       "      <td>140.0</td>\n",
       "      <td>0.167742</td>\n",
       "      <td>0.202520</td>\n",
       "      <td>0.186825</td>\n",
       "      <td>0.719697</td>\n",
       "      <td>0.309122</td>\n",
       "      <td>NaN</td>\n",
       "    </tr>\n",
       "    <tr>\n",
       "      <th>2</th>\n",
       "      <td>0.203894</td>\n",
       "      <td>11.8</td>\n",
       "      <td>6.3</td>\n",
       "      <td>118.0</td>\n",
       "      <td>0.025806</td>\n",
       "      <td>0.892793</td>\n",
       "      <td>0.723152</td>\n",
       "      <td>0.725821</td>\n",
       "      <td>0.720640</td>\n",
       "      <td>NaN</td>\n",
       "    </tr>\n",
       "    <tr>\n",
       "      <th>3</th>\n",
       "      <td>0.386228</td>\n",
       "      <td>14.4</td>\n",
       "      <td>6.1</td>\n",
       "      <td>144.0</td>\n",
       "      <td>0.193548</td>\n",
       "      <td>0.024963</td>\n",
       "      <td>0.562005</td>\n",
       "      <td>0.831515</td>\n",
       "      <td>0.770379</td>\n",
       "      <td>NaN</td>\n",
       "    </tr>\n",
       "    <tr>\n",
       "      <th>4</th>\n",
       "      <td>0.564020</td>\n",
       "      <td>13.5</td>\n",
       "      <td>5.9</td>\n",
       "      <td>135.0</td>\n",
       "      <td>0.135484</td>\n",
       "      <td>0.415389</td>\n",
       "      <td>0.063705</td>\n",
       "      <td>0.211584</td>\n",
       "      <td>0.157217</td>\n",
       "      <td>NaN</td>\n",
       "    </tr>\n",
       "  </tbody>\n",
       "</table>\n",
       "</div>"
      ],
      "text/plain": [
       "   long_hair  forehead_width_cm  forehead_height_cm  forehead_width_mm  \\\n",
       "0   0.704275               11.8                 6.1              118.0   \n",
       "1   0.118690               14.0                 5.4              140.0   \n",
       "2   0.203894               11.8                 6.3              118.0   \n",
       "3   0.386228               14.4                 6.1              144.0   \n",
       "4   0.564020               13.5                 5.9              135.0   \n",
       "\n",
       "   forehead_width_conventional_units  nose_wide  nose_long  lips_thin  \\\n",
       "0                           0.025806   0.895614   0.477485   0.841261   \n",
       "1                           0.167742   0.202520   0.186825   0.719697   \n",
       "2                           0.025806   0.892793   0.723152   0.725821   \n",
       "3                           0.193548   0.024963   0.562005   0.831515   \n",
       "4                           0.135484   0.415389   0.063705   0.211584   \n",
       "\n",
       "   distance_nose_to_lip_long gender  \n",
       "0                   0.902628    NaN  \n",
       "1                   0.309122    NaN  \n",
       "2                   0.720640    NaN  \n",
       "3                   0.770379    NaN  \n",
       "4                   0.157217    NaN  "
      ]
     },
     "execution_count": 4,
     "metadata": {},
     "output_type": "execute_result"
    }
   ],
   "source": [
    "data1.head()"
   ]
  },
  {
   "cell_type": "code",
   "execution_count": 5,
   "id": "a60688ba",
   "metadata": {
    "execution": {
     "iopub.execute_input": "2021-10-15T21:35:01.968457Z",
     "iopub.status.busy": "2021-10-15T21:35:01.967524Z",
     "iopub.status.idle": "2021-10-15T21:35:01.972069Z",
     "shell.execute_reply": "2021-10-15T21:35:01.972532Z",
     "shell.execute_reply.started": "2021-10-15T20:59:46.690917Z"
    },
    "papermill": {
     "duration": 0.043767,
     "end_time": "2021-10-15T21:35:01.972783",
     "exception": false,
     "start_time": "2021-10-15T21:35:01.929016",
     "status": "completed"
    },
    "tags": []
   },
   "outputs": [
    {
     "data": {
      "text/html": [
       "<div>\n",
       "<style scoped>\n",
       "    .dataframe tbody tr th:only-of-type {\n",
       "        vertical-align: middle;\n",
       "    }\n",
       "\n",
       "    .dataframe tbody tr th {\n",
       "        vertical-align: top;\n",
       "    }\n",
       "\n",
       "    .dataframe thead th {\n",
       "        text-align: right;\n",
       "    }\n",
       "</style>\n",
       "<table border=\"1\" class=\"dataframe\">\n",
       "  <thead>\n",
       "    <tr style=\"text-align: right;\">\n",
       "      <th></th>\n",
       "      <th>long_hair</th>\n",
       "      <th>forehead_width_cm</th>\n",
       "      <th>forehead_height_cm</th>\n",
       "      <th>forehead_width_mm</th>\n",
       "      <th>forehead_width_conventional_units</th>\n",
       "      <th>nose_wide</th>\n",
       "      <th>nose_long</th>\n",
       "      <th>lips_thin</th>\n",
       "      <th>distance_nose_to_lip_long</th>\n",
       "      <th>gender</th>\n",
       "    </tr>\n",
       "  </thead>\n",
       "  <tbody>\n",
       "    <tr>\n",
       "      <th>0</th>\n",
       "      <td>0.818018</td>\n",
       "      <td>11.5</td>\n",
       "      <td>5.8</td>\n",
       "      <td>115.0</td>\n",
       "      <td>0.006452</td>\n",
       "      <td>0.137806</td>\n",
       "      <td>0.402620</td>\n",
       "      <td>0.167844</td>\n",
       "      <td>0.188913</td>\n",
       "      <td>Female</td>\n",
       "    </tr>\n",
       "    <tr>\n",
       "      <th>1</th>\n",
       "      <td>0.995941</td>\n",
       "      <td>15.2</td>\n",
       "      <td>5.8</td>\n",
       "      <td>152.0</td>\n",
       "      <td>0.245161</td>\n",
       "      <td>0.570656</td>\n",
       "      <td>0.980237</td>\n",
       "      <td>0.811487</td>\n",
       "      <td>0.967540</td>\n",
       "      <td>Male</td>\n",
       "    </tr>\n",
       "    <tr>\n",
       "      <th>2</th>\n",
       "      <td>0.633806</td>\n",
       "      <td>15.4</td>\n",
       "      <td>5.7</td>\n",
       "      <td>154.0</td>\n",
       "      <td>0.258065</td>\n",
       "      <td>0.709777</td>\n",
       "      <td>0.365825</td>\n",
       "      <td>0.933026</td>\n",
       "      <td>0.646992</td>\n",
       "      <td>Male</td>\n",
       "    </tr>\n",
       "    <tr>\n",
       "      <th>3</th>\n",
       "      <td>0.795792</td>\n",
       "      <td>13.0</td>\n",
       "      <td>6.9</td>\n",
       "      <td>130.0</td>\n",
       "      <td>0.103226</td>\n",
       "      <td>0.883454</td>\n",
       "      <td>0.399733</td>\n",
       "      <td>0.595028</td>\n",
       "      <td>0.822491</td>\n",
       "      <td>Male</td>\n",
       "    </tr>\n",
       "    <tr>\n",
       "      <th>4</th>\n",
       "      <td>0.915185</td>\n",
       "      <td>14.2</td>\n",
       "      <td>5.8</td>\n",
       "      <td>142.0</td>\n",
       "      <td>0.180645</td>\n",
       "      <td>0.652973</td>\n",
       "      <td>0.735543</td>\n",
       "      <td>0.553571</td>\n",
       "      <td>0.532910</td>\n",
       "      <td>Male</td>\n",
       "    </tr>\n",
       "  </tbody>\n",
       "</table>\n",
       "</div>"
      ],
      "text/plain": [
       "   long_hair  forehead_width_cm  forehead_height_cm  forehead_width_mm  \\\n",
       "0   0.818018               11.5                 5.8              115.0   \n",
       "1   0.995941               15.2                 5.8              152.0   \n",
       "2   0.633806               15.4                 5.7              154.0   \n",
       "3   0.795792               13.0                 6.9              130.0   \n",
       "4   0.915185               14.2                 5.8              142.0   \n",
       "\n",
       "   forehead_width_conventional_units  nose_wide  nose_long  lips_thin  \\\n",
       "0                           0.006452   0.137806   0.402620   0.167844   \n",
       "1                           0.245161   0.570656   0.980237   0.811487   \n",
       "2                           0.258065   0.709777   0.365825   0.933026   \n",
       "3                           0.103226   0.883454   0.399733   0.595028   \n",
       "4                           0.180645   0.652973   0.735543   0.553571   \n",
       "\n",
       "   distance_nose_to_lip_long  gender  \n",
       "0                   0.188913  Female  \n",
       "1                   0.967540    Male  \n",
       "2                   0.646992    Male  \n",
       "3                   0.822491    Male  \n",
       "4                   0.532910    Male  "
      ]
     },
     "execution_count": 5,
     "metadata": {},
     "output_type": "execute_result"
    }
   ],
   "source": [
    "data2.columns = ['long_hair', 'forehead_width_cm', 'forehead_height_cm',\n",
    "                                       'forehead_width_mm', 'forehead_width_conventional_units',\n",
    "                                       'nose_wide', 'nose_long', 'lips_thin', 'distance_nose_to_lip_long',\n",
    "                                       'gender']\n",
    "data2.head()"
   ]
  },
  {
   "cell_type": "code",
   "execution_count": 6,
   "id": "0ab0847e",
   "metadata": {
    "execution": {
     "iopub.execute_input": "2021-10-15T21:35:02.020868Z",
     "iopub.status.busy": "2021-10-15T21:35:02.019887Z",
     "iopub.status.idle": "2021-10-15T21:35:02.022993Z",
     "shell.execute_reply": "2021-10-15T21:35:02.023512Z",
     "shell.execute_reply.started": "2021-10-15T21:28:54.279601Z"
    },
    "papermill": {
     "duration": 0.030999,
     "end_time": "2021-10-15T21:35:02.023719",
     "exception": false,
     "start_time": "2021-10-15T21:35:01.992720",
     "status": "completed"
    },
    "tags": []
   },
   "outputs": [],
   "source": [
    "data = pd.concat([data1, data2], ignore_index=True)"
   ]
  },
  {
   "cell_type": "code",
   "execution_count": 7,
   "id": "e6870301",
   "metadata": {
    "execution": {
     "iopub.execute_input": "2021-10-15T21:35:02.074253Z",
     "iopub.status.busy": "2021-10-15T21:35:02.067564Z",
     "iopub.status.idle": "2021-10-15T21:35:02.091797Z",
     "shell.execute_reply": "2021-10-15T21:35:02.092463Z",
     "shell.execute_reply.started": "2021-10-15T21:28:56.908666Z"
    },
    "papermill": {
     "duration": 0.04924,
     "end_time": "2021-10-15T21:35:02.092735",
     "exception": false,
     "start_time": "2021-10-15T21:35:02.043495",
     "status": "completed"
    },
    "tags": []
   },
   "outputs": [],
   "source": [
    "data[['nose_wide', 'nose_long', 'lips_thin', 'distance_nose_to_lip_long', 'long_hair']] = data[['nose_wide', 'nose_long', 'lips_thin', 'distance_nose_to_lip_long', 'long_hair']].round()"
   ]
  },
  {
   "cell_type": "code",
   "execution_count": 8,
   "id": "6650c02b",
   "metadata": {
    "execution": {
     "iopub.execute_input": "2021-10-15T21:35:02.145697Z",
     "iopub.status.busy": "2021-10-15T21:35:02.142682Z",
     "iopub.status.idle": "2021-10-15T21:35:02.150419Z",
     "shell.execute_reply": "2021-10-15T21:35:02.149808Z",
     "shell.execute_reply.started": "2021-10-15T21:29:21.554028Z"
    },
    "papermill": {
     "duration": 0.037232,
     "end_time": "2021-10-15T21:35:02.150602",
     "exception": false,
     "start_time": "2021-10-15T21:35:02.113370",
     "status": "completed"
    },
    "tags": []
   },
   "outputs": [
    {
     "data": {
      "text/plain": [
       "Female    2006\n",
       "Male      1994\n",
       "Name: gender, dtype: int64"
      ]
     },
     "execution_count": 8,
     "metadata": {},
     "output_type": "execute_result"
    }
   ],
   "source": [
    "data[\"gender\"].value_counts()"
   ]
  },
  {
   "cell_type": "code",
   "execution_count": 9,
   "id": "ce9485e4",
   "metadata": {
    "execution": {
     "iopub.execute_input": "2021-10-15T21:35:02.196227Z",
     "iopub.status.busy": "2021-10-15T21:35:02.195483Z",
     "iopub.status.idle": "2021-10-15T21:35:02.203978Z",
     "shell.execute_reply": "2021-10-15T21:35:02.204447Z",
     "shell.execute_reply.started": "2021-10-15T21:29:42.038750Z"
    },
    "papermill": {
     "duration": 0.034143,
     "end_time": "2021-10-15T21:35:02.204697",
     "exception": false,
     "start_time": "2021-10-15T21:35:02.170554",
     "status": "completed"
    },
    "tags": []
   },
   "outputs": [
    {
     "data": {
      "text/plain": [
       "long_hair                              29\n",
       "forehead_width_cm                      29\n",
       "forehead_height_cm                     29\n",
       "forehead_width_mm                      29\n",
       "forehead_width_conventional_units      29\n",
       "nose_wide                              29\n",
       "nose_long                              29\n",
       "lips_thin                              29\n",
       "distance_nose_to_lip_long              29\n",
       "gender                               1030\n",
       "dtype: int64"
      ]
     },
     "execution_count": 9,
     "metadata": {},
     "output_type": "execute_result"
    }
   ],
   "source": [
    "data.isnull().sum()"
   ]
  },
  {
   "cell_type": "code",
   "execution_count": 10,
   "id": "e6b4a4c3",
   "metadata": {
    "execution": {
     "iopub.execute_input": "2021-10-15T21:35:02.253404Z",
     "iopub.status.busy": "2021-10-15T21:35:02.252176Z",
     "iopub.status.idle": "2021-10-15T21:35:02.257370Z",
     "shell.execute_reply": "2021-10-15T21:35:02.256729Z",
     "shell.execute_reply.started": "2021-10-15T21:30:12.797431Z"
    },
    "papermill": {
     "duration": 0.031854,
     "end_time": "2021-10-15T21:35:02.257522",
     "exception": false,
     "start_time": "2021-10-15T21:35:02.225668",
     "status": "completed"
    },
    "tags": []
   },
   "outputs": [],
   "source": [
    "data = data[data['distance_nose_to_lip_long'].notnull()]"
   ]
  },
  {
   "cell_type": "code",
   "execution_count": 11,
   "id": "6a5afae8",
   "metadata": {
    "execution": {
     "iopub.execute_input": "2021-10-15T21:35:02.307589Z",
     "iopub.status.busy": "2021-10-15T21:35:02.306776Z",
     "iopub.status.idle": "2021-10-15T21:35:02.310130Z",
     "shell.execute_reply": "2021-10-15T21:35:02.309553Z",
     "shell.execute_reply.started": "2021-10-15T21:30:49.223353Z"
    },
    "papermill": {
     "duration": 0.031773,
     "end_time": "2021-10-15T21:35:02.310279",
     "exception": false,
     "start_time": "2021-10-15T21:35:02.278506",
     "status": "completed"
    },
    "tags": []
   },
   "outputs": [],
   "source": [
    "pred_x = data[:1001].drop(columns = 'gender')"
   ]
  },
  {
   "cell_type": "markdown",
   "id": "9b23ebcd",
   "metadata": {
    "papermill": {
     "duration": 0.020604,
     "end_time": "2021-10-15T21:35:02.351892",
     "exception": false,
     "start_time": "2021-10-15T21:35:02.331288",
     "status": "completed"
    },
    "tags": []
   },
   "source": [
    "# EDA"
   ]
  },
  {
   "cell_type": "code",
   "execution_count": null,
   "id": "7e6db714",
   "metadata": {
    "papermill": {
     "duration": 0.019849,
     "end_time": "2021-10-15T21:35:02.392515",
     "exception": false,
     "start_time": "2021-10-15T21:35:02.372666",
     "status": "completed"
    },
    "tags": []
   },
   "outputs": [],
   "source": []
  },
  {
   "cell_type": "markdown",
   "id": "7bd62754",
   "metadata": {
    "papermill": {
     "duration": 0.020296,
     "end_time": "2021-10-15T21:35:02.433451",
     "exception": false,
     "start_time": "2021-10-15T21:35:02.413155",
     "status": "completed"
    },
    "tags": []
   },
   "source": [
    "# Model"
   ]
  },
  {
   "cell_type": "code",
   "execution_count": 12,
   "id": "167cd201",
   "metadata": {
    "execution": {
     "iopub.execute_input": "2021-10-15T21:35:02.486981Z",
     "iopub.status.busy": "2021-10-15T21:35:02.486205Z",
     "iopub.status.idle": "2021-10-15T21:35:02.489866Z",
     "shell.execute_reply": "2021-10-15T21:35:02.489242Z",
     "shell.execute_reply.started": "2021-10-15T21:31:25.662508Z"
    },
    "papermill": {
     "duration": 0.036066,
     "end_time": "2021-10-15T21:35:02.490025",
     "exception": false,
     "start_time": "2021-10-15T21:35:02.453959",
     "status": "completed"
    },
    "tags": []
   },
   "outputs": [],
   "source": [
    "X = data[1001:].drop(columns = 'gender')\n",
    "y = data[1001:]['gender'].replace({\"Female\":1,\"Male\":0})"
   ]
  },
  {
   "cell_type": "code",
   "execution_count": 13,
   "id": "2f07e63d",
   "metadata": {
    "execution": {
     "iopub.execute_input": "2021-10-15T21:35:02.540866Z",
     "iopub.status.busy": "2021-10-15T21:35:02.540113Z",
     "iopub.status.idle": "2021-10-15T21:35:02.544300Z",
     "shell.execute_reply": "2021-10-15T21:35:02.543694Z",
     "shell.execute_reply.started": "2021-10-15T21:31:30.895449Z"
    },
    "papermill": {
     "duration": 0.034143,
     "end_time": "2021-10-15T21:35:02.544468",
     "exception": false,
     "start_time": "2021-10-15T21:35:02.510325",
     "status": "completed"
    },
    "tags": []
   },
   "outputs": [],
   "source": [
    "X_train, X_test, y_train, y_test = train_test_split(X, y, test_size=0.3, random_state=42)"
   ]
  },
  {
   "cell_type": "code",
   "execution_count": 14,
   "id": "20d37d4a",
   "metadata": {
    "execution": {
     "iopub.execute_input": "2021-10-15T21:35:02.593590Z",
     "iopub.status.busy": "2021-10-15T21:35:02.592622Z",
     "iopub.status.idle": "2021-10-15T21:35:02.848698Z",
     "shell.execute_reply": "2021-10-15T21:35:02.849333Z",
     "shell.execute_reply.started": "2021-10-15T21:31:35.039310Z"
    },
    "papermill": {
     "duration": 0.284204,
     "end_time": "2021-10-15T21:35:02.849554",
     "exception": false,
     "start_time": "2021-10-15T21:35:02.565350",
     "status": "completed"
    },
    "tags": []
   },
   "outputs": [
    {
     "name": "stderr",
     "output_type": "stream",
     "text": [
      "/opt/conda/lib/python3.7/site-packages/xgboost/sklearn.py:1146: UserWarning: The use of label encoder in XGBClassifier is deprecated and will be removed in a future release. To remove this warning, do the following: 1) Pass option use_label_encoder=False when constructing XGBClassifier object; and 2) Encode your labels (y) as integers starting with 0, i.e. 0, 1, 2, ..., [num_class - 1].\n",
      "  warnings.warn(label_encoder_deprecation_msg, UserWarning)\n"
     ]
    },
    {
     "name": "stdout",
     "output_type": "stream",
     "text": [
      "[21:35:02] WARNING: ../src/learner.cc:1095: Starting in XGBoost 1.3.0, the default evaluation metric used with the objective 'binary:logistic' was changed from 'error' to 'logloss'. Explicitly set eval_metric if you'd like to restore the old behavior.\n"
     ]
    }
   ],
   "source": [
    "model = XGBClassifier(learning_rate=0.01).fit(X_train, y_train)\n",
    "y_pred = model.predict(X_test)"
   ]
  },
  {
   "cell_type": "code",
   "execution_count": 15,
   "id": "5d8eb364",
   "metadata": {
    "execution": {
     "iopub.execute_input": "2021-10-15T21:35:02.905345Z",
     "iopub.status.busy": "2021-10-15T21:35:02.904631Z",
     "iopub.status.idle": "2021-10-15T21:35:03.120701Z",
     "shell.execute_reply": "2021-10-15T21:35:03.121334Z",
     "shell.execute_reply.started": "2021-10-15T21:31:40.043417Z"
    },
    "papermill": {
     "duration": 0.248704,
     "end_time": "2021-10-15T21:35:03.121552",
     "exception": false,
     "start_time": "2021-10-15T21:35:02.872848",
     "status": "completed"
    },
    "tags": []
   },
   "outputs": [
    {
     "data": {
      "image/png": "[encoded data removed]",
      "text/plain": [
       "<Figure size 432x216 with 2 Axes>"
      ]
     },
     "metadata": {
      "needs_background": "light"
     },
     "output_type": "display_data"
    }
   ],
   "source": [
    "plt.rcParams[\"figure.figsize\"] = (6,3)\n",
    "ax = plt.axes()\n",
    "sns.heatmap(confusion_matrix(y_test, y_pred), annot=True, cmap=\"Blues\")\n",
    "plt.show()"
   ]
  },
  {
   "cell_type": "code",
   "execution_count": 16,
   "id": "f2d2e5e4",
   "metadata": {
    "execution": {
     "iopub.execute_input": "2021-10-15T21:35:03.170852Z",
     "iopub.status.busy": "2021-10-15T21:35:03.170105Z",
     "iopub.status.idle": "2021-10-15T21:35:03.179248Z",
     "shell.execute_reply": "2021-10-15T21:35:03.179769Z",
     "shell.execute_reply.started": "2021-10-15T21:32:21.557505Z"
    },
    "papermill": {
     "duration": 0.036018,
     "end_time": "2021-10-15T21:35:03.180011",
     "exception": false,
     "start_time": "2021-10-15T21:35:03.143993",
     "status": "completed"
    },
    "tags": []
   },
   "outputs": [
    {
     "data": {
      "text/plain": [
       "{'Accuracy': 0.9733, 'Precision': 0.9733, 'Recall': 0.9736, 'FScore': 0.9733}"
      ]
     },
     "execution_count": 16,
     "metadata": {},
     "output_type": "execute_result"
    }
   ],
   "source": [
    "pr, rc, fs, sup = metrics.precision_recall_fscore_support(y_test, y_pred, average='macro')\n",
    "results = {\"Accuracy\": round(metrics.accuracy_score(y_test, y_pred), 4),\n",
    "                              \"Precision\": round(pr, 4), \"Recall\":round(rc, 4), \"FScore\":round(fs, 4)}\n",
    "results"
   ]
  },
  {
   "cell_type": "code",
   "execution_count": 17,
   "id": "42efb785",
   "metadata": {
    "execution": {
     "iopub.execute_input": "2021-10-15T21:35:03.235717Z",
     "iopub.status.busy": "2021-10-15T21:35:03.234795Z",
     "iopub.status.idle": "2021-10-15T21:35:03.424964Z",
     "shell.execute_reply": "2021-10-15T21:35:03.425461Z",
     "shell.execute_reply.started": "2021-10-15T21:33:32.317359Z"
    },
    "papermill": {
     "duration": 0.222495,
     "end_time": "2021-10-15T21:35:03.425637",
     "exception": false,
     "start_time": "2021-10-15T21:35:03.203142",
     "status": "completed"
    },
    "tags": []
   },
   "outputs": [
    {
     "name": "stdout",
     "output_type": "stream",
     "text": [
      "No Skill: ROC AUC=0.500\n",
      "XGBClassifier: ROC AUC=0.996\n"
     ]
    },
    {
     "data": {
      "image/png": "[encoded data removed]",
      "text/plain": [
       "<Figure size 432x216 with 1 Axes>"
      ]
     },
     "metadata": {
      "needs_background": "light"
     },
     "output_type": "display_data"
    }
   ],
   "source": [
    "y_prob = model.predict_proba(X_test)\n",
    "ns_probs = [0 for _ in range(len(y_test))]\n",
    "\n",
    "# keep probabilities for the positive outcome only\n",
    "y_prob = y_prob[:, 1]\n",
    "\n",
    "# calculate scores\n",
    "ns_auc = roc_auc_score(y_test, ns_probs)\n",
    "lr_auc = roc_auc_score(y_test, y_prob)\n",
    "\n",
    "# summarize scores\n",
    "print('No Skill: ROC AUC=%.3f' % (ns_auc))\n",
    "print('XGBClassifier: ROC AUC=%.3f' % (lr_auc))\n",
    "\n",
    "# calculate roc curves\n",
    "ns_fpr, ns_tpr, _ = roc_curve(y_test, ns_probs)\n",
    "lr_fpr, lr_tpr, _ = roc_curve(y_test, y_prob)\n",
    "\n",
    "# plot the roc curve for the model\n",
    "plt.plot(ns_fpr, ns_tpr, linestyle='--', label='No Skill')\n",
    "plt.plot(lr_fpr, lr_tpr, marker='.', label='XGBClassifier')\n",
    "\n",
    "# axis labels\n",
    "plt.rcParams[\"figure.figsize\"] = (16,9)\n",
    "plt.xlabel('False Positive Rate')\n",
    "plt.ylabel('True Positive Rate')\n",
    "\n",
    "# show the legend\n",
    "plt.legend()\n",
    "\n",
    "# show the plot\n",
    "plt.show()"
   ]
  },
  {
   "cell_type": "code",
   "execution_count": 18,
   "id": "028011f7",
   "metadata": {
    "execution": {
     "iopub.execute_input": "2021-10-15T21:35:03.475531Z",
     "iopub.status.busy": "2021-10-15T21:35:03.474874Z",
     "iopub.status.idle": "2021-10-15T21:35:03.492444Z",
     "shell.execute_reply": "2021-10-15T21:35:03.493062Z",
     "shell.execute_reply.started": "2021-10-15T21:34:03.907576Z"
    },
    "papermill": {
     "duration": 0.044672,
     "end_time": "2021-10-15T21:35:03.493271",
     "exception": false,
     "start_time": "2021-10-15T21:35:03.448599",
     "status": "completed"
    },
    "tags": []
   },
   "outputs": [],
   "source": [
    "pred_y = model.predict(pred_x)\n",
    "res = pd.DataFrame(pred_y, columns = ['gender']).replace({1: \"Female\",0 : \"Male\"})\n",
    "res.to_csv('result.csv',index=False)"
   ]
  }
 ],
 "metadata": {
  "kernelspec": {
   "display_name": "Python 3",
   "language": "python",
   "name": "python3"
  },
  "language_info": {
   "codemirror_mode": {
    "name": "ipython",
    "version": 3
   },
   "file_extension": ".py",
   "mimetype": "text/x-python",
   "name": "python",
   "nbconvert_exporter": "python",
   "pygments_lexer": "ipython3",
   "version": "3.7.10"
  },
  "papermill": {
   "default_parameters": {},
   "duration": 14.439234,
   "end_time": "2021-10-15T21:35:04.229039",
   "environment_variables": {},
   "exception": null,
   "input_path": "__notebook__.ipynb",
   "output_path": "__notebook__.ipynb",
   "parameters": {},
   "start_time": "2021-10-15T21:34:49.789805",
   "version": "2.3.3"
  }
 },
 "nbformat": 4,
 "nbformat_minor": 5
}
