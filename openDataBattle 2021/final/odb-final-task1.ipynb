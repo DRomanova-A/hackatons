{
 "cells": [
  {
   "cell_type": "code",
   "execution_count": 1,
   "id": "97700d72",
   "metadata": {
    "execution": {
     "iopub.execute_input": "2021-10-30T20:56:22.465446Z",
     "iopub.status.busy": "2021-10-30T20:56:22.464462Z",
     "iopub.status.idle": "2021-10-30T20:56:22.487127Z",
     "shell.execute_reply": "2021-10-30T20:56:22.487887Z",
     "shell.execute_reply.started": "2021-10-30T16:51:09.860194Z"
    },
    "papermill": {
     "duration": 0.063597,
     "end_time": "2021-10-30T20:56:22.488299",
     "exception": false,
     "start_time": "2021-10-30T20:56:22.424702",
     "status": "completed"
    },
    "tags": []
   },
   "outputs": [
    {
     "name": "stdout",
     "output_type": "stream",
     "text": [
      "/kaggle/input/odb-final-task/sample_submission.csv\n",
      "/kaggle/input/odb-final-task/model.csv\n",
      "/kaggle/input/odb-final-task/data.csv\n"
     ]
    }
   ],
   "source": [
    "import os\n",
    "for dirname, _, filenames in os.walk('/kaggle/input'):\n",
    "    for filename in filenames:\n",
    "        print(os.path.join(dirname, filename))"
   ]
  },
  {
   "cell_type": "code",
   "execution_count": 2,
   "id": "0a0514ee",
   "metadata": {
    "execution": {
     "iopub.execute_input": "2021-10-30T20:56:22.549011Z",
     "iopub.status.busy": "2021-10-30T20:56:22.548089Z",
     "iopub.status.idle": "2021-10-30T20:56:23.827316Z",
     "shell.execute_reply": "2021-10-30T20:56:23.826424Z",
     "shell.execute_reply.started": "2021-10-30T16:52:05.45828Z"
    },
    "papermill": {
     "duration": 1.308144,
     "end_time": "2021-10-30T20:56:23.827528",
     "exception": false,
     "start_time": "2021-10-30T20:56:22.519384",
     "status": "completed"
    },
    "tags": []
   },
   "outputs": [],
   "source": [
    "# Standard python libraries\n",
    "import time\n",
    "\n",
    "# Essential DS libraries\n",
    "import numpy as np\n",
    "import pandas as pd\n",
    "from sklearn.model_selection import train_test_split\n",
    "from sklearn.metrics import mean_squared_log_error\n",
    "\n",
    "%matplotlib inline\n",
    "import matplotlib.pyplot as plt\n",
    "import seaborn as sns\n",
    "\n"
   ]
  },
  {
   "cell_type": "markdown",
   "id": "eed823c4",
   "metadata": {
    "papermill": {
     "duration": 0.019845,
     "end_time": "2021-10-30T20:56:23.868424",
     "exception": false,
     "start_time": "2021-10-30T20:56:23.848579",
     "status": "completed"
    },
    "tags": []
   },
   "source": [
    "# Data loading"
   ]
  },
  {
   "cell_type": "code",
   "execution_count": 3,
   "id": "d27898ca",
   "metadata": {
    "execution": {
     "iopub.execute_input": "2021-10-30T20:56:23.913032Z",
     "iopub.status.busy": "2021-10-30T20:56:23.912242Z",
     "iopub.status.idle": "2021-10-30T20:56:51.937216Z",
     "shell.execute_reply": "2021-10-30T20:56:51.937799Z",
     "shell.execute_reply.started": "2021-10-30T16:53:11.878094Z"
    },
    "papermill": {
     "duration": 28.0493,
     "end_time": "2021-10-30T20:56:51.937981",
     "exception": false,
     "start_time": "2021-10-30T20:56:23.888681",
     "status": "completed"
    },
    "tags": []
   },
   "outputs": [
    {
     "name": "stdout",
     "output_type": "stream",
     "text": [
      "CPU times: user 19.9 s, sys: 5.46 s, total: 25.3 s\n",
      "Wall time: 28 s\n"
     ]
    }
   ],
   "source": [
    "%%time\n",
    "\n",
    "data = pd.read_csv('/kaggle/input/odb-final-task/data.csv')\n",
    "model_data = pd.read_csv(\"/kaggle/input/odb-final-task/model.csv\")\n",
    "submission = pd.read_csv(\"/kaggle/input/odb-final-task/sample_submission.csv\")"
   ]
  },
  {
   "cell_type": "code",
   "execution_count": 4,
   "id": "9f20ce5a",
   "metadata": {
    "execution": {
     "iopub.execute_input": "2021-10-30T20:56:51.984057Z",
     "iopub.status.busy": "2021-10-30T20:56:51.983341Z",
     "iopub.status.idle": "2021-10-30T20:56:52.000599Z",
     "shell.execute_reply": "2021-10-30T20:56:52.001143Z",
     "shell.execute_reply.started": "2021-10-30T14:36:34.884116Z"
    },
    "papermill": {
     "duration": 0.041373,
     "end_time": "2021-10-30T20:56:52.001314",
     "exception": false,
     "start_time": "2021-10-30T20:56:51.959941",
     "status": "completed"
    },
    "tags": []
   },
   "outputs": [
    {
     "data": {
      "text/html": [
       "<div>\n",
       "<style scoped>\n",
       "    .dataframe tbody tr th:only-of-type {\n",
       "        vertical-align: middle;\n",
       "    }\n",
       "\n",
       "    .dataframe tbody tr th {\n",
       "        vertical-align: top;\n",
       "    }\n",
       "\n",
       "    .dataframe thead th {\n",
       "        text-align: right;\n",
       "    }\n",
       "</style>\n",
       "<table border=\"1\" class=\"dataframe\">\n",
       "  <thead>\n",
       "    <tr style=\"text-align: right;\">\n",
       "      <th></th>\n",
       "      <th>0.5488135039273248</th>\n",
       "    </tr>\n",
       "  </thead>\n",
       "  <tbody>\n",
       "    <tr>\n",
       "      <th>0</th>\n",
       "      <td>0.715189</td>\n",
       "    </tr>\n",
       "    <tr>\n",
       "      <th>1</th>\n",
       "      <td>0.602763</td>\n",
       "    </tr>\n",
       "    <tr>\n",
       "      <th>2</th>\n",
       "      <td>0.544883</td>\n",
       "    </tr>\n",
       "    <tr>\n",
       "      <th>3</th>\n",
       "      <td>0.423655</td>\n",
       "    </tr>\n",
       "    <tr>\n",
       "      <th>4</th>\n",
       "      <td>0.645894</td>\n",
       "    </tr>\n",
       "  </tbody>\n",
       "</table>\n",
       "</div>"
      ],
      "text/plain": [
       "   0.5488135039273248\n",
       "0            0.715189\n",
       "1            0.602763\n",
       "2            0.544883\n",
       "3            0.423655\n",
       "4            0.645894"
      ]
     },
     "execution_count": 4,
     "metadata": {},
     "output_type": "execute_result"
    }
   ],
   "source": [
    "submission.head()"
   ]
  },
  {
   "cell_type": "code",
   "execution_count": 5,
   "id": "783f902e",
   "metadata": {
    "execution": {
     "iopub.execute_input": "2021-10-30T20:56:52.047835Z",
     "iopub.status.busy": "2021-10-30T20:56:52.047033Z",
     "iopub.status.idle": "2021-10-30T20:56:52.054940Z",
     "shell.execute_reply": "2021-10-30T20:56:52.055549Z",
     "shell.execute_reply.started": "2021-10-30T14:36:38.556413Z"
    },
    "papermill": {
     "duration": 0.033135,
     "end_time": "2021-10-30T20:56:52.055718",
     "exception": false,
     "start_time": "2021-10-30T20:56:52.022583",
     "status": "completed"
    },
    "tags": []
   },
   "outputs": [
    {
     "name": "stdout",
     "output_type": "stream",
     "text": [
      "CPU times: user 26 µs, sys: 7 µs, total: 33 µs\n",
      "Wall time: 36 µs\n"
     ]
    },
    {
     "data": {
      "text/plain": [
       "((82617, 1910), (82617, 2), (999, 1))"
      ]
     },
     "execution_count": 5,
     "metadata": {},
     "output_type": "execute_result"
    }
   ],
   "source": [
    "%%time\n",
    "\n",
    "data.shape, model_data.shape, submission.shape"
   ]
  },
  {
   "cell_type": "code",
   "execution_count": 6,
   "id": "d86ea1c4",
   "metadata": {
    "execution": {
     "iopub.execute_input": "2021-10-30T20:56:52.117715Z",
     "iopub.status.busy": "2021-10-30T20:56:52.116738Z",
     "iopub.status.idle": "2021-10-30T20:56:56.628524Z",
     "shell.execute_reply": "2021-10-30T20:56:56.629065Z",
     "shell.execute_reply.started": "2021-10-30T16:53:41.821429Z"
    },
    "papermill": {
     "duration": 4.549711,
     "end_time": "2021-10-30T20:56:56.629259",
     "exception": false,
     "start_time": "2021-10-30T20:56:52.079548",
     "status": "completed"
    },
    "tags": []
   },
   "outputs": [],
   "source": [
    "df = data.merge(model_data, on='incident')"
   ]
  },
  {
   "cell_type": "code",
   "execution_count": 7,
   "id": "259393de",
   "metadata": {
    "execution": {
     "iopub.execute_input": "2021-10-30T20:56:56.676694Z",
     "iopub.status.busy": "2021-10-30T20:56:56.676037Z",
     "iopub.status.idle": "2021-10-30T20:56:56.701960Z",
     "shell.execute_reply": "2021-10-30T20:56:56.701391Z",
     "shell.execute_reply.started": "2021-10-30T16:53:45.772378Z"
    },
    "papermill": {
     "duration": 0.051001,
     "end_time": "2021-10-30T20:56:56.702098",
     "exception": false,
     "start_time": "2021-10-30T20:56:56.651097",
     "status": "completed"
    },
    "tags": []
   },
   "outputs": [
    {
     "data": {
      "text/html": [
       "<div>\n",
       "<style scoped>\n",
       "    .dataframe tbody tr th:only-of-type {\n",
       "        vertical-align: middle;\n",
       "    }\n",
       "\n",
       "    .dataframe tbody tr th {\n",
       "        vertical-align: top;\n",
       "    }\n",
       "\n",
       "    .dataframe thead th {\n",
       "        text-align: right;\n",
       "    }\n",
       "</style>\n",
       "<table border=\"1\" class=\"dataframe\">\n",
       "  <thead>\n",
       "    <tr style=\"text-align: right;\">\n",
       "      <th></th>\n",
       "      <th>incident</th>\n",
       "      <th>flg_90_12_add</th>\n",
       "      <th>APPLICATION_MONTH</th>\n",
       "      <th>Category_Feature_0</th>\n",
       "      <th>Category_Feature_1</th>\n",
       "      <th>Category_Feature_2</th>\n",
       "      <th>Category_Feature_3</th>\n",
       "      <th>Category_Feature_4</th>\n",
       "      <th>Category_Feature_5</th>\n",
       "      <th>Category_Feature_6</th>\n",
       "      <th>...</th>\n",
       "      <th>Feature_1879</th>\n",
       "      <th>Feature_1880</th>\n",
       "      <th>Feature_1881</th>\n",
       "      <th>Feature_1882</th>\n",
       "      <th>Feature_1883</th>\n",
       "      <th>Feature_1884</th>\n",
       "      <th>Feature_1885</th>\n",
       "      <th>Feature_1886</th>\n",
       "      <th>Feature_1887</th>\n",
       "      <th>PD</th>\n",
       "    </tr>\n",
       "  </thead>\n",
       "  <tbody>\n",
       "    <tr>\n",
       "      <th>0</th>\n",
       "      <td>14511110</td>\n",
       "      <td>0.0</td>\n",
       "      <td>2018-10</td>\n",
       "      <td>6.0</td>\n",
       "      <td>2</td>\n",
       "      <td>25</td>\n",
       "      <td>2.0</td>\n",
       "      <td>0.0</td>\n",
       "      <td>3</td>\n",
       "      <td>1</td>\n",
       "      <td>...</td>\n",
       "      <td>NaN</td>\n",
       "      <td>NaN</td>\n",
       "      <td>NaN</td>\n",
       "      <td>NaN</td>\n",
       "      <td>0</td>\n",
       "      <td>0</td>\n",
       "      <td>0</td>\n",
       "      <td>1</td>\n",
       "      <td>20184</td>\n",
       "      <td>0.022191</td>\n",
       "    </tr>\n",
       "    <tr>\n",
       "      <th>1</th>\n",
       "      <td>15018800</td>\n",
       "      <td>0.0</td>\n",
       "      <td>2018-12</td>\n",
       "      <td>1.0</td>\n",
       "      <td>2</td>\n",
       "      <td>49</td>\n",
       "      <td>4.0</td>\n",
       "      <td>0.0</td>\n",
       "      <td>3</td>\n",
       "      <td>1</td>\n",
       "      <td>...</td>\n",
       "      <td>0.259385</td>\n",
       "      <td>0.547065</td>\n",
       "      <td>0.28768</td>\n",
       "      <td>0.28768</td>\n",
       "      <td>0</td>\n",
       "      <td>1</td>\n",
       "      <td>1</td>\n",
       "      <td>1</td>\n",
       "      <td>20184</td>\n",
       "      <td>0.019972</td>\n",
       "    </tr>\n",
       "    <tr>\n",
       "      <th>2</th>\n",
       "      <td>14499737</td>\n",
       "      <td>0.0</td>\n",
       "      <td>2018-10</td>\n",
       "      <td>6.0</td>\n",
       "      <td>2</td>\n",
       "      <td>24</td>\n",
       "      <td>1.0</td>\n",
       "      <td>0.0</td>\n",
       "      <td>3</td>\n",
       "      <td>0</td>\n",
       "      <td>...</td>\n",
       "      <td>0.420321</td>\n",
       "      <td>0.242687</td>\n",
       "      <td>NaN</td>\n",
       "      <td>NaN</td>\n",
       "      <td>0</td>\n",
       "      <td>1</td>\n",
       "      <td>0</td>\n",
       "      <td>1</td>\n",
       "      <td>20184</td>\n",
       "      <td>0.043884</td>\n",
       "    </tr>\n",
       "    <tr>\n",
       "      <th>3</th>\n",
       "      <td>14953427</td>\n",
       "      <td>0.0</td>\n",
       "      <td>2018-12</td>\n",
       "      <td>4.0</td>\n",
       "      <td>2</td>\n",
       "      <td>26</td>\n",
       "      <td>1.0</td>\n",
       "      <td>0.0</td>\n",
       "      <td>3</td>\n",
       "      <td>1</td>\n",
       "      <td>...</td>\n",
       "      <td>NaN</td>\n",
       "      <td>NaN</td>\n",
       "      <td>NaN</td>\n",
       "      <td>NaN</td>\n",
       "      <td>0</td>\n",
       "      <td>1</td>\n",
       "      <td>1</td>\n",
       "      <td>1</td>\n",
       "      <td>20184</td>\n",
       "      <td>0.013412</td>\n",
       "    </tr>\n",
       "    <tr>\n",
       "      <th>4</th>\n",
       "      <td>14744453</td>\n",
       "      <td>0.0</td>\n",
       "      <td>2018-11</td>\n",
       "      <td>6.0</td>\n",
       "      <td>2</td>\n",
       "      <td>30</td>\n",
       "      <td>4.0</td>\n",
       "      <td>2.0</td>\n",
       "      <td>3</td>\n",
       "      <td>1</td>\n",
       "      <td>...</td>\n",
       "      <td>0.045863</td>\n",
       "      <td>NaN</td>\n",
       "      <td>NaN</td>\n",
       "      <td>NaN</td>\n",
       "      <td>0</td>\n",
       "      <td>1</td>\n",
       "      <td>0</td>\n",
       "      <td>1</td>\n",
       "      <td>20184</td>\n",
       "      <td>0.033354</td>\n",
       "    </tr>\n",
       "  </tbody>\n",
       "</table>\n",
       "<p>5 rows × 1911 columns</p>\n",
       "</div>"
      ],
      "text/plain": [
       "   incident  flg_90_12_add APPLICATION_MONTH  Category_Feature_0  \\\n",
       "0  14511110            0.0           2018-10                 6.0   \n",
       "1  15018800            0.0           2018-12                 1.0   \n",
       "2  14499737            0.0           2018-10                 6.0   \n",
       "3  14953427            0.0           2018-12                 4.0   \n",
       "4  14744453            0.0           2018-11                 6.0   \n",
       "\n",
       "   Category_Feature_1  Category_Feature_2  Category_Feature_3  \\\n",
       "0                   2                  25                 2.0   \n",
       "1                   2                  49                 4.0   \n",
       "2                   2                  24                 1.0   \n",
       "3                   2                  26                 1.0   \n",
       "4                   2                  30                 4.0   \n",
       "\n",
       "   Category_Feature_4  Category_Feature_5  Category_Feature_6  ...  \\\n",
       "0                 0.0                   3                   1  ...   \n",
       "1                 0.0                   3                   1  ...   \n",
       "2                 0.0                   3                   0  ...   \n",
       "3                 0.0                   3                   1  ...   \n",
       "4                 2.0                   3                   1  ...   \n",
       "\n",
       "   Feature_1879  Feature_1880  Feature_1881  Feature_1882  Feature_1883  \\\n",
       "0           NaN           NaN           NaN           NaN             0   \n",
       "1      0.259385      0.547065       0.28768       0.28768             0   \n",
       "2      0.420321      0.242687           NaN           NaN             0   \n",
       "3           NaN           NaN           NaN           NaN             0   \n",
       "4      0.045863           NaN           NaN           NaN             0   \n",
       "\n",
       "   Feature_1884  Feature_1885  Feature_1886  Feature_1887        PD  \n",
       "0             0             0             1         20184  0.022191  \n",
       "1             1             1             1         20184  0.019972  \n",
       "2             1             0             1         20184  0.043884  \n",
       "3             1             1             1         20184  0.013412  \n",
       "4             1             0             1         20184  0.033354  \n",
       "\n",
       "[5 rows x 1911 columns]"
      ]
     },
     "execution_count": 7,
     "metadata": {},
     "output_type": "execute_result"
    }
   ],
   "source": [
    "df.head()"
   ]
  },
  {
   "cell_type": "code",
   "execution_count": 8,
   "id": "a737a1b6",
   "metadata": {
    "execution": {
     "iopub.execute_input": "2021-10-30T20:56:56.750546Z",
     "iopub.status.busy": "2021-10-30T20:56:56.749908Z",
     "iopub.status.idle": "2021-10-30T20:56:56.756208Z",
     "shell.execute_reply": "2021-10-30T20:56:56.757043Z",
     "shell.execute_reply.started": "2021-10-30T17:01:53.363475Z"
    },
    "papermill": {
     "duration": 0.032528,
     "end_time": "2021-10-30T20:56:56.757251",
     "exception": false,
     "start_time": "2021-10-30T20:56:56.724723",
     "status": "completed"
    },
    "tags": []
   },
   "outputs": [],
   "source": [
    "df['target'] = abs(df['PD'] - df['flg_90_12_add'])"
   ]
  },
  {
   "cell_type": "code",
   "execution_count": 9,
   "id": "525abe9a",
   "metadata": {
    "execution": {
     "iopub.execute_input": "2021-10-30T20:56:56.809811Z",
     "iopub.status.busy": "2021-10-30T20:56:56.809071Z",
     "iopub.status.idle": "2021-10-30T20:56:59.292542Z",
     "shell.execute_reply": "2021-10-30T20:56:59.291928Z",
     "shell.execute_reply.started": "2021-10-30T17:09:53.467711Z"
    },
    "papermill": {
     "duration": 2.51147,
     "end_time": "2021-10-30T20:56:59.292687",
     "exception": false,
     "start_time": "2021-10-30T20:56:56.781217",
     "status": "completed"
    },
    "tags": []
   },
   "outputs": [],
   "source": [
    "data = df[df['target'].notnull()]"
   ]
  },
  {
   "cell_type": "code",
   "execution_count": 10,
   "id": "9a3319d3",
   "metadata": {
    "execution": {
     "iopub.execute_input": "2021-10-30T20:56:59.341176Z",
     "iopub.status.busy": "2021-10-30T20:56:59.340486Z",
     "iopub.status.idle": "2021-10-30T20:56:59.784549Z",
     "shell.execute_reply": "2021-10-30T20:56:59.785082Z",
     "shell.execute_reply.started": "2021-10-30T17:09:56.463843Z"
    },
    "papermill": {
     "duration": 0.469829,
     "end_time": "2021-10-30T20:56:59.785283",
     "exception": false,
     "start_time": "2021-10-30T20:56:59.315454",
     "status": "completed"
    },
    "tags": []
   },
   "outputs": [],
   "source": [
    "data = data.drop(columns = ['flg_90_12_add', 'PD', 'APPLICATION_MONTH'])"
   ]
  },
  {
   "cell_type": "code",
   "execution_count": 11,
   "id": "0d3807b1",
   "metadata": {
    "execution": {
     "iopub.execute_input": "2021-10-30T20:56:59.833688Z",
     "iopub.status.busy": "2021-10-30T20:56:59.833066Z",
     "iopub.status.idle": "2021-10-30T20:56:59.841944Z",
     "shell.execute_reply": "2021-10-30T20:56:59.842616Z",
     "shell.execute_reply.started": "2021-10-30T17:10:00.670787Z"
    },
    "papermill": {
     "duration": 0.035112,
     "end_time": "2021-10-30T20:56:59.842814",
     "exception": false,
     "start_time": "2021-10-30T20:56:59.807702",
     "status": "completed"
    },
    "tags": []
   },
   "outputs": [],
   "source": [
    "test = df[df['target'].isnull()]"
   ]
  },
  {
   "cell_type": "code",
   "execution_count": 12,
   "id": "34ff1fbc",
   "metadata": {
    "execution": {
     "iopub.execute_input": "2021-10-30T20:56:59.891110Z",
     "iopub.status.busy": "2021-10-30T20:56:59.890401Z",
     "iopub.status.idle": "2021-10-30T20:56:59.901157Z",
     "shell.execute_reply": "2021-10-30T20:56:59.900470Z",
     "shell.execute_reply.started": "2021-10-30T17:10:04.742008Z"
    },
    "papermill": {
     "duration": 0.036008,
     "end_time": "2021-10-30T20:56:59.901307",
     "exception": false,
     "start_time": "2021-10-30T20:56:59.865299",
     "status": "completed"
    },
    "tags": []
   },
   "outputs": [],
   "source": [
    "test = test.drop(columns = ['flg_90_12_add', 'PD', 'APPLICATION_MONTH'])"
   ]
  },
  {
   "cell_type": "code",
   "execution_count": 13,
   "id": "e08f1021",
   "metadata": {
    "execution": {
     "iopub.execute_input": "2021-10-30T20:56:59.952880Z",
     "iopub.status.busy": "2021-10-30T20:56:59.952205Z",
     "iopub.status.idle": "2021-10-30T20:56:59.955308Z",
     "shell.execute_reply": "2021-10-30T20:56:59.955871Z",
     "shell.execute_reply.started": "2021-10-30T17:10:12.152758Z"
    },
    "papermill": {
     "duration": 0.032435,
     "end_time": "2021-10-30T20:56:59.956049",
     "exception": false,
     "start_time": "2021-10-30T20:56:59.923614",
     "status": "completed"
    },
    "tags": []
   },
   "outputs": [
    {
     "data": {
      "text/plain": [
       "((81617, 1909), (1000, 1909))"
      ]
     },
     "execution_count": 13,
     "metadata": {},
     "output_type": "execute_result"
    }
   ],
   "source": [
    "data.shape, test.shape"
   ]
  },
  {
   "cell_type": "code",
   "execution_count": 14,
   "id": "b163969c",
   "metadata": {
    "execution": {
     "iopub.execute_input": "2021-10-30T20:57:00.006605Z",
     "iopub.status.busy": "2021-10-30T20:57:00.005839Z",
     "iopub.status.idle": "2021-10-30T20:57:01.046950Z",
     "shell.execute_reply": "2021-10-30T20:57:01.046379Z",
     "shell.execute_reply.started": "2021-10-30T17:11:47.089981Z"
    },
    "papermill": {
     "duration": 1.068442,
     "end_time": "2021-10-30T20:57:01.047099",
     "exception": false,
     "start_time": "2021-10-30T20:56:59.978657",
     "status": "completed"
    },
    "tags": []
   },
   "outputs": [
    {
     "data": {
      "text/html": [
       "<style type='text/css'>\n",
       ".datatable table.frame { margin-bottom: 0; }\n",
       ".datatable table.frame thead { border-bottom: none; }\n",
       ".datatable table.frame tr.coltypes td {  color: #FFFFFF;  line-height: 6px;  padding: 0 0.5em;}\n",
       ".datatable .bool    { background: #DDDD99; }\n",
       ".datatable .object  { background: #565656; }\n",
       ".datatable .int     { background: #5D9E5D; }\n",
       ".datatable .float   { background: #4040CC; }\n",
       ".datatable .str     { background: #CC4040; }\n",
       ".datatable .time    { background: #40CC40; }\n",
       ".datatable .row_index {  background: var(--jp-border-color3);  border-right: 1px solid var(--jp-border-color0);  color: var(--jp-ui-font-color3);  font-size: 9px;}\n",
       ".datatable .frame tbody td { text-align: left; }\n",
       ".datatable .frame tr.coltypes .row_index {  background: var(--jp-border-color0);}\n",
       ".datatable th:nth-child(2) { padding-left: 12px; }\n",
       ".datatable .hellipsis {  color: var(--jp-cell-editor-border-color);}\n",
       ".datatable .vellipsis {  background: var(--jp-layout-color0);  color: var(--jp-cell-editor-border-color);}\n",
       ".datatable .na {  color: var(--jp-cell-editor-border-color);  font-size: 80%;}\n",
       ".datatable .sp {  opacity: 0.25;}\n",
       ".datatable .footer { font-size: 9px; }\n",
       ".datatable .frame_dimensions {  background: var(--jp-border-color3);  border-top: 1px solid var(--jp-border-color0);  color: var(--jp-ui-font-color3);  display: inline-block;  opacity: 0.6;  padding: 1px 10px 1px 5px;}\n",
       "</style>\n"
      ],
      "text/plain": [
       "<IPython.core.display.HTML object>"
      ]
     },
     "metadata": {},
     "output_type": "display_data"
    }
   ],
   "source": [
    "import lightgbm as lgb"
   ]
  },
  {
   "cell_type": "code",
   "execution_count": 15,
   "id": "fb52c628",
   "metadata": {
    "execution": {
     "iopub.execute_input": "2021-10-30T20:57:01.100196Z",
     "iopub.status.busy": "2021-10-30T20:57:01.096587Z",
     "iopub.status.idle": "2021-10-30T20:57:01.891495Z",
     "shell.execute_reply": "2021-10-30T20:57:01.890903Z",
     "shell.execute_reply.started": "2021-10-30T17:13:00.166034Z"
    },
    "papermill": {
     "duration": 0.821121,
     "end_time": "2021-10-30T20:57:01.891653",
     "exception": false,
     "start_time": "2021-10-30T20:57:01.070532",
     "status": "completed"
    },
    "tags": []
   },
   "outputs": [],
   "source": [
    "def fill_na(df):\n",
    "    for col in df.columns:\n",
    "        if ('_lag_' in col) & (df[col].isnull().any()):\n",
    "            df[col].fillna(0, inplace=True)         \n",
    "    return df\n",
    "\n",
    "train = fill_na(data)\n",
    "test = fill_na(test)"
   ]
  },
  {
   "cell_type": "code",
   "execution_count": 16,
   "id": "6ce0d26e",
   "metadata": {
    "execution": {
     "iopub.execute_input": "2021-10-30T20:57:01.943990Z",
     "iopub.status.busy": "2021-10-30T20:57:01.943297Z",
     "iopub.status.idle": "2021-10-30T20:57:01.945582Z",
     "shell.execute_reply": "2021-10-30T20:57:01.946093Z",
     "shell.execute_reply.started": "2021-10-30T17:20:04.038634Z"
    },
    "papermill": {
     "duration": 0.031228,
     "end_time": "2021-10-30T20:57:01.946261",
     "exception": false,
     "start_time": "2021-10-30T20:57:01.915033",
     "status": "completed"
    },
    "tags": []
   },
   "outputs": [],
   "source": [
    "y = train['target']"
   ]
  },
  {
   "cell_type": "code",
   "execution_count": 17,
   "id": "333c3c86",
   "metadata": {
    "execution": {
     "iopub.execute_input": "2021-10-30T20:57:02.000367Z",
     "iopub.status.busy": "2021-10-30T20:57:01.999611Z",
     "iopub.status.idle": "2021-10-30T20:57:03.218201Z",
     "shell.execute_reply": "2021-10-30T20:57:03.218753Z",
     "shell.execute_reply.started": "2021-10-30T17:24:25.722422Z"
    },
    "papermill": {
     "duration": 1.249215,
     "end_time": "2021-10-30T20:57:03.218955",
     "exception": false,
     "start_time": "2021-10-30T20:57:01.969740",
     "status": "completed"
    },
    "tags": []
   },
   "outputs": [],
   "source": [
    "from sklearn import metrics\n",
    "X_train, X_test, y_train, y_test = train_test_split(train, y, test_size=0.2, random_state=0)"
   ]
  },
  {
   "cell_type": "code",
   "execution_count": 18,
   "id": "fa15df52",
   "metadata": {
    "execution": {
     "iopub.execute_input": "2021-10-30T20:57:03.268323Z",
     "iopub.status.busy": "2021-10-30T20:57:03.267695Z",
     "iopub.status.idle": "2021-10-30T20:57:03.270777Z",
     "shell.execute_reply": "2021-10-30T20:57:03.271346Z",
     "shell.execute_reply.started": "2021-10-30T17:25:39.643166Z"
    },
    "papermill": {
     "duration": 0.02944,
     "end_time": "2021-10-30T20:57:03.271511",
     "exception": false,
     "start_time": "2021-10-30T20:57:03.242071",
     "status": "completed"
    },
    "tags": []
   },
   "outputs": [],
   "source": [
    "#from lightgbm import LGBMRegressor"
   ]
  },
  {
   "cell_type": "code",
   "execution_count": 19,
   "id": "91e59b31",
   "metadata": {
    "execution": {
     "iopub.execute_input": "2021-10-30T20:57:03.322544Z",
     "iopub.status.busy": "2021-10-30T20:57:03.321879Z",
     "iopub.status.idle": "2021-10-30T20:57:03.323525Z",
     "shell.execute_reply": "2021-10-30T20:57:03.324142Z"
    },
    "papermill": {
     "duration": 0.029675,
     "end_time": "2021-10-30T20:57:03.324305",
     "exception": false,
     "start_time": "2021-10-30T20:57:03.294630",
     "status": "completed"
    },
    "tags": []
   },
   "outputs": [],
   "source": [
    "from sklearn.metrics import mean_absolute_error\n",
    "import math"
   ]
  },
  {
   "cell_type": "code",
   "execution_count": 20,
   "id": "1856ecfd",
   "metadata": {
    "execution": {
     "iopub.execute_input": "2021-10-30T20:57:03.375622Z",
     "iopub.status.busy": "2021-10-30T20:57:03.374951Z",
     "iopub.status.idle": "2021-10-30T20:57:03.376887Z",
     "shell.execute_reply": "2021-10-30T20:57:03.377468Z",
     "shell.execute_reply.started": "2021-10-30T17:26:58.519906Z"
    },
    "papermill": {
     "duration": 0.030035,
     "end_time": "2021-10-30T20:57:03.377641",
     "exception": false,
     "start_time": "2021-10-30T20:57:03.347606",
     "status": "completed"
    },
    "tags": []
   },
   "outputs": [],
   "source": [
    "#lgbm = LGBMRegressor(objective='regression', \n",
    "#                                       num_leaves=4,\n",
    "#                                       learning_rate=0.01, \n",
    "#                                       n_estimators=12000, \n",
    "#                                       max_bin=200, \n",
    "#                                       bagging_fraction=0.75,\n",
    "#                                       bagging_freq=5, \n",
    "#                                       bagging_seed=7,\n",
    "#                                       feature_fraction=0.4, \n",
    "#                                       )\n",
    "#lgbm.fit(X_train, y_train,eval_metric='rmse')\n",
    "#predictions = lgbm.predict(X_test)\n",
    "#print('Root Mean Square Error test = ' + str(math.sqrt(metrics.mean_squared_error(y_test, predictions))))"
   ]
  },
  {
   "cell_type": "code",
   "execution_count": 21,
   "id": "296a4017",
   "metadata": {
    "execution": {
     "iopub.execute_input": "2021-10-30T20:57:03.427827Z",
     "iopub.status.busy": "2021-10-30T20:57:03.427174Z",
     "iopub.status.idle": "2021-10-30T20:57:03.516902Z",
     "shell.execute_reply": "2021-10-30T20:57:03.517392Z"
    },
    "papermill": {
     "duration": 0.116838,
     "end_time": "2021-10-30T20:57:03.517584",
     "exception": false,
     "start_time": "2021-10-30T20:57:03.400746",
     "status": "completed"
    },
    "tags": []
   },
   "outputs": [],
   "source": [
    "from xgboost import XGBRegressor"
   ]
  },
  {
   "cell_type": "code",
   "execution_count": 22,
   "id": "9f54f441",
   "metadata": {
    "execution": {
     "iopub.execute_input": "2021-10-30T20:57:03.610741Z",
     "iopub.status.busy": "2021-10-30T20:57:03.595865Z",
     "iopub.status.idle": "2021-10-30T23:05:06.860538Z",
     "shell.execute_reply": "2021-10-30T23:05:06.861321Z"
    },
    "papermill": {
     "duration": 7683.320292,
     "end_time": "2021-10-30T23:05:06.861561",
     "exception": false,
     "start_time": "2021-10-30T20:57:03.541269",
     "status": "completed"
    },
    "tags": []
   },
   "outputs": [
    {
     "name": "stdout",
     "output_type": "stream",
     "text": [
      "[20:57:07] WARNING: ../src/objective/regression_obj.cu:171: reg:linear is now deprecated in favor of reg:squarederror.\n",
      "Root Mean Square Error test = 0.0030050645488292026\n"
     ]
    }
   ],
   "source": [
    "xgb =XGBRegressor( booster='gbtree', colsample_bylevel=1,\n",
    "             colsample_bynode=1, colsample_bytree=0.6, gamma=0,\n",
    "             importance_type='gain', learning_rate=0.01, max_delta_step=0,\n",
    "             max_depth=4, min_child_weight=1.5, n_estimators=2400,\n",
    "             n_jobs=1, nthread=None, objective='reg:linear',\n",
    "             reg_alpha=0.6, reg_lambda=0.6, scale_pos_weight=1, \n",
    "             silent=None, subsample=0.8, verbosity=1)\n",
    "xgb.fit(X_train, y_train)\n",
    "predictions = xgb.predict(X_test)\n",
    "print('Root Mean Square Error test = ' + str(math.sqrt(metrics.mean_squared_error(y_test, predictions))))"
   ]
  },
  {
   "cell_type": "code",
   "execution_count": 23,
   "id": "8a94f647",
   "metadata": {
    "execution": {
     "iopub.execute_input": "2021-10-30T23:05:06.918957Z",
     "iopub.status.busy": "2021-10-30T23:05:06.918271Z",
     "iopub.status.idle": "2021-10-30T23:05:07.097102Z",
     "shell.execute_reply": "2021-10-30T23:05:07.096496Z"
    },
    "papermill": {
     "duration": 0.209265,
     "end_time": "2021-10-30T23:05:07.097243",
     "exception": false,
     "start_time": "2021-10-30T23:05:06.887978",
     "status": "completed"
    },
    "tags": []
   },
   "outputs": [],
   "source": [
    "predicted_1 = xgb.predict(test.values)"
   ]
  },
  {
   "cell_type": "code",
   "execution_count": 24,
   "id": "5a7ccabc",
   "metadata": {
    "execution": {
     "iopub.execute_input": "2021-10-30T23:05:07.154372Z",
     "iopub.status.busy": "2021-10-30T23:05:07.153630Z",
     "iopub.status.idle": "2021-10-30T23:05:07.167280Z",
     "shell.execute_reply": "2021-10-30T23:05:07.166576Z"
    },
    "papermill": {
     "duration": 0.04553,
     "end_time": "2021-10-30T23:05:07.167485",
     "exception": false,
     "start_time": "2021-10-30T23:05:07.121955",
     "status": "completed"
    },
    "tags": []
   },
   "outputs": [],
   "source": [
    "submission = pd.DataFrame({\n",
    "        \"target\": predicted_1\n",
    "    })\n",
    "submission.to_csv('submission.csv', index=False)"
   ]
  }
 ],
 "metadata": {
  "kernelspec": {
   "display_name": "Python 3",
   "language": "python",
   "name": "python3"
  },
  "language_info": {
   "codemirror_mode": {
    "name": "ipython",
    "version": 3
   },
   "file_extension": ".py",
   "mimetype": "text/x-python",
   "name": "python",
   "nbconvert_exporter": "python",
   "pygments_lexer": "ipython3",
   "version": "3.7.10"
  },
  "papermill": {
   "default_parameters": {},
   "duration": 7736.661491,
   "end_time": "2021-10-30T23:05:08.320434",
   "environment_variables": {},
   "exception": null,
   "input_path": "__notebook__.ipynb",
   "output_path": "__notebook__.ipynb",
   "parameters": {},
   "start_time": "2021-10-30T20:56:11.658943",
   "version": "2.3.3"
  }
 },
 "nbformat": 4,
 "nbformat_minor": 5
}
